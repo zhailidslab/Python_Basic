{
 "cells": [
  {
   "cell_type": "markdown",
   "id": "da6ae296",
   "metadata": {},
   "source": [
    "# Create a Function\n"
   ]
  },
  {
   "cell_type": "code",
   "execution_count": 1,
   "id": "18bb2d5a",
   "metadata": {},
   "outputs": [],
   "source": [
    "def my_function():\n",
    "    print(\"Climb mountains, not so the world can see you, but so you can see the world.\")\n",
    "    return"
   ]
  },
  {
   "cell_type": "code",
   "execution_count": 2,
   "id": "b71ba819",
   "metadata": {},
   "outputs": [
    {
     "name": "stdout",
     "output_type": "stream",
     "text": [
      "Climb mountains, not so the world can see you, but so you can see the world.\n",
      "Do you agree?\n"
     ]
    }
   ],
   "source": [
    "my_function()\n",
    "print(\"Do you agree?\")"
   ]
  },
  {
   "cell_type": "markdown",
   "id": "b48aed1b",
   "metadata": {},
   "source": [
    "# Create a Function with Arguments\n"
   ]
  },
  {
   "cell_type": "code",
   "execution_count": 3,
   "id": "22c61ba8",
   "metadata": {},
   "outputs": [],
   "source": [
    "def my_func(name,place):\n",
    "  print(f\"Hello {name}! Are you from {place}?\")"
   ]
  },
  {
   "cell_type": "markdown",
   "id": "69124945",
   "metadata": {},
   "source": [
    "We can now call my_func() by passing in two strings for the name and place of the user, as shown below."
   ]
  },
  {
   "cell_type": "code",
   "execution_count": 4,
   "id": "9d783513",
   "metadata": {},
   "outputs": [
    {
     "name": "stdout",
     "output_type": "stream",
     "text": [
      "Hello Jane! Are you from Paris?\n"
     ]
    }
   ],
   "source": [
    "my_func(\"Jane\",\"Paris\")"
   ]
  },
  {
   "cell_type": "markdown",
   "id": "75c3f8d4",
   "metadata": {},
   "source": [
    "What happens if you specify the place first and then the name? Let's find out."
   ]
  },
  {
   "cell_type": "code",
   "execution_count": 5,
   "id": "05c26759",
   "metadata": {},
   "outputs": [
    {
     "name": "stdout",
     "output_type": "stream",
     "text": [
      "Hello Hawaii! Are you from Robert?\n"
     ]
    }
   ],
   "source": [
    "my_func(\"Hawaii\",\"Robert\")"
   ]
  },
  {
   "cell_type": "code",
   "execution_count": 6,
   "id": "d370b998",
   "metadata": {},
   "outputs": [],
   "source": [
    "def my_func(name,place):\n",
    "  print(f\"Hello {name}! Are you from {place}?\")"
   ]
  },
  {
   "cell_type": "code",
   "execution_count": 7,
   "id": "17f7fb31",
   "metadata": {},
   "outputs": [
    {
     "name": "stdout",
     "output_type": "stream",
     "text": [
      "Hello Jane! Are you from Paris?\n"
     ]
    }
   ],
   "source": [
    "my_func(\"Jane\",\"Paris\")"
   ]
  },
  {
   "cell_type": "code",
   "execution_count": 8,
   "id": "62be5def",
   "metadata": {},
   "outputs": [
    {
     "name": "stdout",
     "output_type": "stream",
     "text": [
      "Hello Hawaii! Are you from Robert?\n"
     ]
    }
   ],
   "source": [
    "my_func(\"Hawaii\",\"Robert\")"
   ]
  },
  {
   "cell_type": "markdown",
   "id": "bd318db9",
   "metadata": {},
   "source": [
    "We get `Hello Hawaii! Are you from Robert?` – and this doesn't make sense."
   ]
  },
  {
   "cell_type": "code",
   "execution_count": 9,
   "id": "a96f56e8",
   "metadata": {},
   "outputs": [],
   "source": [
    "def my_func(name,place):\n",
    "  print(f\"Hello {name}! Are you from {place}?\")"
   ]
  },
  {
   "cell_type": "code",
   "execution_count": 10,
   "id": "84b365a1",
   "metadata": {},
   "outputs": [
    {
     "name": "stdout",
     "output_type": "stream",
     "text": [
      "Hello Robert! Are you from Hawaii?\n"
     ]
    }
   ],
   "source": [
    "my_func(place=\"Hawaii\",name=\"Robert\")"
   ]
  },
  {
   "cell_type": "markdown",
   "id": "79f5f9b2",
   "metadata": {},
   "source": [
    "These are called keyword arguments. The order of arguments in the function call does not matter so long as the names of the parameters are correct."
   ]
  },
  {
   "cell_type": "markdown",
   "id": "201bf318",
   "metadata": {},
   "source": [
    "**Keyword arguments**\n",
    "\n",
    "Keyword arguments in python are introduced to relax some of the restrictions of the required arguments. Keyword arguments take the form =,when we are calling a function."
   ]
  },
  {
   "cell_type": "code",
   "execution_count": 11,
   "id": "979d6ff8",
   "metadata": {},
   "outputs": [
    {
     "data": {
      "text/plain": [
       "256"
      ]
     },
     "execution_count": 11,
     "metadata": {},
     "output_type": "execute_result"
    }
   ],
   "source": [
    "# function definition\n",
    "def find_square(num):\n",
    "    result = num * num\n",
    "    return result\n",
    "\n",
    "# function call\n",
    "square = find_square(16)\n",
    "square"
   ]
  },
  {
   "cell_type": "code",
   "execution_count": 12,
   "id": "22807c52",
   "metadata": {},
   "outputs": [
    {
     "name": "stdout",
     "output_type": "stream",
     "text": [
      "Sum:  26\n"
     ]
    }
   ],
   "source": [
    "# function with two arguments\n",
    "def add_numbers(num1, num2):\n",
    "    sum = num1 + num2\n",
    "    print(\"Sum: \",sum)\n",
    "\n",
    "# function call with two values\n",
    "add_numbers(15, 11)"
   ]
  },
  {
   "cell_type": "markdown",
   "id": "0460b008",
   "metadata": {},
   "source": [
    "# Create a Function with Default Arguments\n"
   ]
  },
  {
   "cell_type": "code",
   "execution_count": 13,
   "id": "e43bd5cd",
   "metadata": {},
   "outputs": [],
   "source": [
    "def total_calc(bill_amount,tip_perc=10):\n",
    "  total = bill_amount*(1 + 0.01*tip_perc)\n",
    "  total = round(total,2)\n",
    "  print(f\"Please pay ${total}\")"
   ]
  },
  {
   "cell_type": "code",
   "execution_count": 14,
   "id": "cbd3b89c",
   "metadata": {},
   "outputs": [
    {
     "name": "stdout",
     "output_type": "stream",
     "text": [
      "Please pay $165.0\n"
     ]
    }
   ],
   "source": [
    "# specify only bill_amount\n",
    "# default value of tip percentage is used\n",
    "\n",
    "total_calc(150)"
   ]
  },
  {
   "cell_type": "code",
   "execution_count": 15,
   "id": "340db163",
   "metadata": {},
   "outputs": [
    {
     "name": "stdout",
     "output_type": "stream",
     "text": [
      "Please pay $230.0\n"
     ]
    }
   ],
   "source": [
    "# specify both bill_amount and a custom tip percentage\n",
    "# the tip percentage specified in the function call is used\n",
    " \n",
    "total_calc(200,15)"
   ]
  },
  {
   "cell_type": "code",
   "execution_count": 16,
   "id": "10ef668d",
   "metadata": {},
   "outputs": [
    {
     "name": "stdout",
     "output_type": "stream",
     "text": [
      "Please pay $179.53\n"
     ]
    }
   ],
   "source": [
    "total_calc(167,7.5) "
   ]
  },
  {
   "cell_type": "markdown",
   "id": "81a8349d",
   "metadata": {},
   "source": [
    "# Create a Function that Returns a Value\n"
   ]
  },
  {
   "cell_type": "code",
   "execution_count": 17,
   "id": "39d6ea36",
   "metadata": {},
   "outputs": [],
   "source": [
    "def volume_of_cuboid(length,breadth,height):\n",
    "  return length*breadth*height"
   ]
  },
  {
   "cell_type": "code",
   "execution_count": 18,
   "id": "5fe53c69",
   "metadata": {},
   "outputs": [
    {
     "name": "stdout",
     "output_type": "stream",
     "text": [
      "Volume of the cuboid is 750 cubic units\n"
     ]
    }
   ],
   "source": [
    "volume = volume_of_cuboid(5,25,6)\n",
    "print(f\"Volume of the cuboid is {volume} cubic units\")"
   ]
  },
  {
   "cell_type": "markdown",
   "id": "1490af40",
   "metadata": {},
   "source": [
    "# Create a Function that Returns Multiple Values\n"
   ]
  },
  {
   "attachments": {
    "image.png": {
     "image/png": "[encoded data removed]"
    }
   },
   "cell_type": "markdown",
   "id": "b94681c9",
   "metadata": {},
   "source": [
    "![image.png](attachment:image.png)"
   ]
  },
  {
   "cell_type": "code",
   "execution_count": 19,
   "id": "c56fcfcf",
   "metadata": {},
   "outputs": [],
   "source": [
    "def cube(side):\n",
    "  volume = side **3\n",
    "  surface_area = 6 * (side**2)\n",
    "  return volume, surface_area"
   ]
  },
  {
   "cell_type": "markdown",
   "id": "531b0015",
   "metadata": {},
   "source": [
    "To verify that a tuple is returned, let's collect it in a variable returned_values, as shown below:"
   ]
  },
  {
   "cell_type": "code",
   "execution_count": 20,
   "id": "fd853693",
   "metadata": {},
   "outputs": [
    {
     "name": "stdout",
     "output_type": "stream",
     "text": [
      "(512, 384)\n"
     ]
    }
   ],
   "source": [
    "returned_values = cube(8)\n",
    "print(returned_values)"
   ]
  },
  {
   "cell_type": "code",
   "execution_count": 21,
   "id": "75a0cdc1",
   "metadata": {},
   "outputs": [
    {
     "name": "stdout",
     "output_type": "stream",
     "text": [
      "Volume of the cube is 274.625 cubic units and the total surface area is 253.5 sq. units\n"
     ]
    }
   ],
   "source": [
    "volume, area = cube(6.5)\n",
    "print(f\"Volume of the cube is {volume} cubic units and the total surface area is {area} sq. units\")"
   ]
  },
  {
   "cell_type": "code",
   "execution_count": 22,
   "id": "b3c091cd",
   "metadata": {},
   "outputs": [
    {
     "name": "stdout",
     "output_type": "stream",
     "text": [
      "Volume: 343 cubic units, Surface area: 294 sq. units\n"
     ]
    }
   ],
   "source": [
    "volume, area = cube(7)\n",
    "print(f\"Volume: {volume} cubic units, Surface area: {area} sq. units\")"
   ]
  },
  {
   "cell_type": "markdown",
   "id": "83173e7a",
   "metadata": {},
   "source": [
    "# Create a Function that Takes a Variable Number of Arguments \n"
   ]
  },
  {
   "cell_type": "markdown",
   "id": "182e2440",
   "metadata": {},
   "source": [
    "## Nonkeyword arbitrary arguments"
   ]
  },
  {
   "cell_type": "code",
   "execution_count": 23,
   "id": "3e01fac5",
   "metadata": {},
   "outputs": [],
   "source": [
    "def my_var_sum(*args):\n",
    "  print(f'args={args}')  \n",
    "  sum = 0\n",
    "  for arg in args:\n",
    "    sum += arg\n",
    "  return sum"
   ]
  },
  {
   "cell_type": "code",
   "execution_count": 24,
   "id": "a7047a0e",
   "metadata": {},
   "outputs": [],
   "source": [
    "def my_var_sum(*args):\n",
    "  sum = 0\n",
    "  for arg in args:\n",
    "    sum += arg\n",
    "  return sum"
   ]
  },
  {
   "cell_type": "code",
   "execution_count": 25,
   "id": "022d5c4d",
   "metadata": {},
   "outputs": [
    {
     "name": "stdout",
     "output_type": "stream",
     "text": [
      "The numbers that you have add up to 26\n"
     ]
    }
   ],
   "source": [
    "# Example 1 with 4 numbers\n",
    "sum = my_var_sum(9,10,5,2)\n",
    "print(f\"The numbers that you have add up to {sum}\")"
   ]
  },
  {
   "cell_type": "code",
   "execution_count": 26,
   "id": "18961617",
   "metadata": {},
   "outputs": [
    {
     "name": "stdout",
     "output_type": "stream",
     "text": [
      "The numbers that you have add up to 21\n"
     ]
    }
   ],
   "source": [
    "# Example 2 with 3 numbers\n",
    "sum = my_var_sum(9,7,5)\n",
    "print(f\"The numbers that you have add up to {sum}\")"
   ]
  },
  {
   "cell_type": "code",
   "execution_count": 27,
   "id": "4b240085",
   "metadata": {},
   "outputs": [
    {
     "name": "stdout",
     "output_type": "stream",
     "text": [
      "The numbers that you have add up to 27\n"
     ]
    }
   ],
   "source": [
    "# Example 3 with 6 numbers\n",
    "sum = my_var_sum(5,1,3,7,5,6)\n",
    "print(f\"The numbers that you have add up to {sum}\")\n"
   ]
  },
  {
   "cell_type": "code",
   "execution_count": 28,
   "id": "d189ad44",
   "metadata": {},
   "outputs": [],
   "source": [
    "def my_var_sum(*args):\n",
    "  print(f'args={args}')  \n",
    "  sum = 0\n",
    "  for arg in args:\n",
    "    sum += arg\n",
    "  return sum"
   ]
  },
  {
   "cell_type": "code",
   "execution_count": 29,
   "id": "4b401936",
   "metadata": {},
   "outputs": [
    {
     "name": "stdout",
     "output_type": "stream",
     "text": [
      "args=(5, 1, 3, 7, 5, 6)\n",
      "The numbers that you have add up to 27\n"
     ]
    }
   ],
   "source": [
    "# Example 3 with 6 numbers\n",
    "sum = my_var_sum(5,1,3,7,5,6)\n",
    "print(f\"The numbers that you have add up to {sum}\")\n"
   ]
  },
  {
   "cell_type": "markdown",
   "id": "890abf32",
   "metadata": {},
   "source": [
    "## Keyword arbitrary Arguments (**kwargs)\n"
   ]
  },
  {
   "cell_type": "code",
   "execution_count": 30,
   "id": "03be06ae",
   "metadata": {},
   "outputs": [
    {
     "name": "stdout",
     "output_type": "stream",
     "text": [
      "\n",
      "Data type of argument: <class 'dict'>\n",
      "{'Firstname': 'Joseph', 'Lastname': 'Lee', 'Age': 22, 'Phone': 1787667690}\n",
      "\n",
      "Data type of argument: <class 'dict'>\n",
      "{'Firstname': 'John', 'Lastname': 'Smith', 'Email': 'johns@mail.com', 'Country': 'India', 'Age': 25, 'Phone': 9876543210}\n"
     ]
    }
   ],
   "source": [
    "def intro(**data):\n",
    "    print(\"\\nData type of argument:\",type(data))\n",
    "    print(data)\n",
    "    \n",
    "\n",
    "intro(Firstname=\"Joseph\", Lastname=\"Lee\", Age=22, Phone=1787667690)\n",
    "intro(Firstname=\"John\", Lastname=\"Smith\", Email=\"johns@mail.com\", Country=\"India\", Age=25, Phone=9876543210)"
   ]
  },
  {
   "cell_type": "code",
   "execution_count": 31,
   "id": "ce477795",
   "metadata": {},
   "outputs": [
    {
     "name": "stdout",
     "output_type": "stream",
     "text": [
      "\n",
      "Data type of argument: <class 'dict'>\n",
      "Firstname is Joseph\n",
      "Lastname is Lee\n",
      "Age is 22\n",
      "Phone is 1787667690\n",
      "\n",
      "Data type of argument: <class 'dict'>\n",
      "Firstname is John\n",
      "Lastname is Smith\n",
      "Email is johns@mail.com\n",
      "Country is India\n",
      "Age is 25\n",
      "Phone is 9876543210\n"
     ]
    }
   ],
   "source": [
    "def intro(**data):\n",
    "    print(\"\\nData type of argument:\",type(data))\n",
    "\n",
    "    for key, value in data.items():\n",
    "        print(f\"{key} is {value}\")\n",
    "\n",
    "intro(Firstname=\"Joseph\", Lastname=\"Lee\", Age=22, Phone=1787667690)\n",
    "intro(Firstname=\"John\", Lastname=\"Smith\", Email=\"johns@mail.com\", Country=\"India\", Age=25, Phone=9876543210)"
   ]
  },
  {
   "cell_type": "markdown",
   "id": "a1fe0000",
   "metadata": {},
   "source": [
    "## Mix of arguments"
   ]
  },
  {
   "cell_type": "code",
   "execution_count": 32,
   "id": "98827d55",
   "metadata": {},
   "outputs": [],
   "source": [
    "# correct function_definition\n",
    "def my_function(a, b,*args,**kwargs):\n",
    "    pass"
   ]
  },
  {
   "cell_type": "code",
   "execution_count": 33,
   "id": "1005e06d",
   "metadata": {},
   "outputs": [
    {
     "ename": "SyntaxError",
     "evalue": "invalid syntax (2139861903.py, line 2)",
     "output_type": "error",
     "traceback": [
      "\u001b[1;36m  Cell \u001b[1;32mIn[33], line 2\u001b[1;36m\u001b[0m\n\u001b[1;33m    def my_function(a, b,**kwargs,*args,):\u001b[0m\n\u001b[1;37m                                  ^\u001b[0m\n\u001b[1;31mSyntaxError\u001b[0m\u001b[1;31m:\u001b[0m invalid syntax\n"
     ]
    }
   ],
   "source": [
    "# wrong function definition\n",
    "def my_function(a, b,**kwargs,*args,):\n",
    "    pass"
   ]
  },
  {
   "cell_type": "code",
   "execution_count": 34,
   "id": "94b6a890",
   "metadata": {},
   "outputs": [
    {
     "name": "stdout",
     "output_type": "stream",
     "text": [
      "\n",
      "The non-keyword arguments are (1, 2, 3)\n",
      "The keyword arguments are {}\n",
      "\n",
      "The non-keyword arguments are ()\n",
      "The keyword arguments are {'a': 1, 'b': 2, 'c': 3}\n",
      "\n",
      "The non-keyword arguments are (1, 2, 3)\n",
      "The keyword arguments are {'a': 1, 'b': 2, 'c': 3}\n"
     ]
    }
   ],
   "source": [
    "def my_function(*args, **kwargs):\n",
    "    print(\"\\nThe non-keyword arguments are\", args)\n",
    "    print(\"The keyword arguments are\", kwargs)\n",
    "\n",
    "# Calling the function with different arguments\n",
    "my_function(1, 2, 3) # Only positional arguments\n",
    "my_function(a=1, b=2, c=3) # Only keyword arguments\n",
    "my_function(1, 2, 3, a=1, b=2, c=3) # Both positional and keyword arguments\n"
   ]
  },
  {
   "cell_type": "markdown",
   "id": "cb5ae5d8",
   "metadata": {},
   "source": [
    "# Anonymous Function\n"
   ]
  },
  {
   "cell_type": "code",
   "execution_count": 35,
   "id": "03e580f8",
   "metadata": {},
   "outputs": [
    {
     "data": {
      "text/plain": [
       "<function __main__.<lambda>(x)>"
      ]
     },
     "execution_count": 35,
     "metadata": {},
     "output_type": "execute_result"
    }
   ],
   "source": [
    "lambda x: x*x"
   ]
  },
  {
   "cell_type": "code",
   "execution_count": 36,
   "id": "f54e09cb",
   "metadata": {},
   "outputs": [
    {
     "data": {
      "text/plain": [
       "100"
      ]
     },
     "execution_count": 36,
     "metadata": {},
     "output_type": "execute_result"
    }
   ],
   "source": [
    "(lambda x: x*x)(10)"
   ]
  },
  {
   "cell_type": "code",
   "execution_count": 37,
   "id": "46420df2",
   "metadata": {},
   "outputs": [
    {
     "data": {
      "text/plain": [
       "12"
      ]
     },
     "execution_count": 37,
     "metadata": {},
     "output_type": "execute_result"
    }
   ],
   "source": [
    "(lambda x, y, z: x + y + z)(3, 8, 1)"
   ]
  },
  {
   "cell_type": "code",
   "execution_count": 38,
   "id": "580a3d68",
   "metadata": {},
   "outputs": [
    {
     "name": "stdout",
     "output_type": "stream",
     "text": [
      "10\n"
     ]
    }
   ],
   "source": [
    "print((lambda x: x if(x > 10) else 10)(5))"
   ]
  },
  {
   "cell_type": "code",
   "execution_count": 39,
   "id": "6b455cd1",
   "metadata": {},
   "outputs": [
    {
     "name": "stdout",
     "output_type": "stream",
     "text": [
      "11\n"
     ]
    }
   ],
   "source": [
    "print((lambda x: x if(x > 10) else 10)(11))"
   ]
  },
  {
   "cell_type": "code",
   "execution_count": 40,
   "id": "09e7785d",
   "metadata": {},
   "outputs": [
    {
     "data": {
      "text/plain": [
       "110"
      ]
     },
     "execution_count": 40,
     "metadata": {},
     "output_type": "execute_result"
    }
   ],
   "source": [
    "(lambda x: x * 10 if x > 10 else (x * 5 if x < 5 else x))(11)"
   ]
  },
  {
   "cell_type": "code",
   "execution_count": 41,
   "id": "d717f8cc",
   "metadata": {},
   "outputs": [
    {
     "data": {
      "text/plain": [
       "20"
      ]
     },
     "execution_count": 41,
     "metadata": {},
     "output_type": "execute_result"
    }
   ],
   "source": [
    "(lambda x: x * 10 if x > 10 else (x * 5 if x < 5 else x))(4)"
   ]
  },
  {
   "cell_type": "code",
   "execution_count": 42,
   "id": "31d26892",
   "metadata": {
    "scrolled": true
   },
   "outputs": [
    {
     "data": {
      "text/plain": [
       "7"
      ]
     },
     "execution_count": 42,
     "metadata": {},
     "output_type": "execute_result"
    }
   ],
   "source": [
    "(lambda x: x * 10 if x > 10 else (x * 5 if x < 5 else x))(7)"
   ]
  },
  {
   "cell_type": "markdown",
   "id": "ad89f0ec",
   "metadata": {},
   "source": [
    "# Scope of variables in Functions\n"
   ]
  },
  {
   "cell_type": "code",
   "execution_count": 43,
   "id": "d5127849",
   "metadata": {},
   "outputs": [],
   "source": [
    "a = 0  # a is the global variable\n",
    "def area_calc(x,y):  # x and y are local variables\n",
    " a=x*y\n",
    " print('Area is ',a)  # inside function"
   ]
  },
  {
   "cell_type": "code",
   "execution_count": 44,
   "id": "4bad2caf",
   "metadata": {},
   "outputs": [
    {
     "name": "stdout",
     "output_type": "stream",
     "text": [
      "Area is  200\n"
     ]
    }
   ],
   "source": [
    "area_calc(10,20)"
   ]
  },
  {
   "cell_type": "code",
   "execution_count": 45,
   "id": "dad6be96",
   "metadata": {},
   "outputs": [
    {
     "name": "stdout",
     "output_type": "stream",
     "text": [
      "Area is  0\n"
     ]
    }
   ],
   "source": [
    "print('Area is ',a)  #outside function"
   ]
  },
  {
   "cell_type": "code",
   "execution_count": 46,
   "id": "094823de",
   "metadata": {},
   "outputs": [
    {
     "ename": "NameError",
     "evalue": "name 'x' is not defined",
     "output_type": "error",
     "traceback": [
      "\u001b[1;31m---------------------------------------------------------------------------\u001b[0m",
      "\u001b[1;31mNameError\u001b[0m                                 Traceback (most recent call last)",
      "Cell \u001b[1;32mIn[46], line 1\u001b[0m\n\u001b[1;32m----> 1\u001b[0m \u001b[38;5;28mprint\u001b[39m (\u001b[43mx\u001b[49m\u001b[38;5;241m*\u001b[39my)\n",
      "\u001b[1;31mNameError\u001b[0m: name 'x' is not defined"
     ]
    }
   ],
   "source": [
    "print (x*y)        #outputs error as x and y are declared inside function"
   ]
  },
  {
   "cell_type": "markdown",
   "id": "fe6b7ac7",
   "metadata": {},
   "source": [
    "## The global Keyword\n",
    "Normally, when you create a variable inside a function, that variable is local, and can only be used inside that function.\n",
    "\n",
    "To create a global variable inside a function, you can use the global keyword.\n",
    "\n",
    "Example"
   ]
  },
  {
   "cell_type": "code",
   "execution_count": 47,
   "id": "1370d4ae",
   "metadata": {},
   "outputs": [],
   "source": [
    "def myfunc():\n",
    "  global x\n",
    "  x = \"fantastic\""
   ]
  },
  {
   "cell_type": "code",
   "execution_count": 48,
   "id": "b0961614",
   "metadata": {},
   "outputs": [],
   "source": [
    "myfunc()"
   ]
  },
  {
   "cell_type": "code",
   "execution_count": 49,
   "id": "d7dcf3b9",
   "metadata": {},
   "outputs": [
    {
     "name": "stdout",
     "output_type": "stream",
     "text": [
      "Python is fantastic\n"
     ]
    }
   ],
   "source": [
    "print(\"Python is \" + x)"
   ]
  },
  {
   "cell_type": "markdown",
   "id": "76bc32b7",
   "metadata": {},
   "source": [
    "Also, use the global keyword if you want to **change a global variable inside a function.**\n",
    "\n",
    "Example：To change the value of a global variable inside a function, refer to the variable by using the global keyword:"
   ]
  },
  {
   "cell_type": "code",
   "execution_count": 50,
   "id": "3f07f119",
   "metadata": {
    "scrolled": true
   },
   "outputs": [
    {
     "name": "stdout",
     "output_type": "stream",
     "text": [
      "Python is fantastic\n"
     ]
    }
   ],
   "source": [
    "x = \"awesome\"\n",
    "\n",
    "def myfunc():\n",
    "  global x\n",
    "  x = \"fantastic\"\n",
    "\n",
    "myfunc()\n",
    "\n",
    "print(\"Python is \" + x)"
   ]
  },
  {
   "cell_type": "code",
   "execution_count": null,
   "id": "5c9bb532",
   "metadata": {},
   "outputs": [],
   "source": []
  }
 ],
 "metadata": {
  "kernelspec": {
   "display_name": "Python 3 (ipykernel)",
   "language": "python",
   "name": "python3"
  },
  "language_info": {
   "codemirror_mode": {
    "name": "ipython",
    "version": 3
   },
   "file_extension": ".py",
   "mimetype": "text/x-python",
   "name": "python",
   "nbconvert_exporter": "python",
   "pygments_lexer": "ipython3",
   "version": "3.10.12"
  },
  "toc": {
   "base_numbering": 1,
   "nav_menu": {},
   "number_sections": true,
   "sideBar": true,
   "skip_h1_title": false,
   "title_cell": "Table of Contents",
   "title_sidebar": "Contents",
   "toc_cell": false,
   "toc_position": {},
   "toc_section_display": true,
   "toc_window_display": false
  }
 },
 "nbformat": 4,
 "nbformat_minor": 5
}
