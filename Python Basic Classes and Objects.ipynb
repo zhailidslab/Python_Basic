{
 "cells": [
  {
   "cell_type": "markdown",
   "id": "68c03e4f",
   "metadata": {},
   "source": [
    "# Classes and Objects\n"
   ]
  },
  {
   "cell_type": "code",
   "execution_count": 1,
   "id": "4694e8e4",
   "metadata": {},
   "outputs": [],
   "source": [
    "import numpy as np"
   ]
  },
  {
   "cell_type": "code",
   "execution_count": 2,
   "id": "f112dc68",
   "metadata": {},
   "outputs": [
    {
     "data": {
      "text/plain": [
       "str"
      ]
     },
     "execution_count": 2,
     "metadata": {},
     "output_type": "execute_result"
    }
   ],
   "source": [
    "cute = \"You are so cute!\"\n",
    "type(cute)"
   ]
  },
  {
   "cell_type": "code",
   "execution_count": 3,
   "id": "3793a02f",
   "metadata": {},
   "outputs": [
    {
     "data": {
      "text/plain": [
       "int"
      ]
     },
     "execution_count": 3,
     "metadata": {},
     "output_type": "execute_result"
    }
   ],
   "source": [
    "x = 10\n",
    "type(x)"
   ]
  },
  {
   "cell_type": "code",
   "execution_count": 4,
   "id": "6476d191",
   "metadata": {},
   "outputs": [
    {
     "data": {
      "text/plain": [
       "function"
      ]
     },
     "execution_count": 4,
     "metadata": {},
     "output_type": "execute_result"
    }
   ],
   "source": [
    "def my_print():\n",
    "    print('Just print!')\n",
    "\n",
    "type(my_print)"
   ]
  },
  {
   "cell_type": "code",
   "execution_count": 5,
   "id": "4c05e9d5",
   "metadata": {},
   "outputs": [
    {
     "data": {
      "text/plain": [
       "builtin_function_or_method"
      ]
     },
     "execution_count": 5,
     "metadata": {},
     "output_type": "execute_result"
    }
   ],
   "source": [
    "type(print)"
   ]
  },
  {
   "cell_type": "code",
   "execution_count": 6,
   "id": "aceb08fd",
   "metadata": {},
   "outputs": [
    {
     "data": {
      "text/plain": [
       "tuple"
      ]
     },
     "execution_count": 6,
     "metadata": {},
     "output_type": "execute_result"
    }
   ],
   "source": [
    "type((1,2,3))"
   ]
  },
  {
   "cell_type": "markdown",
   "id": "9536ce13",
   "metadata": {},
   "source": [
    "# Defining a class\n",
    "\n",
    "In Python, we should define a class using the keyword ‘class’.\n",
    "\n",
    "Syntax:\n",
    "\n",
    "`class classname:`\n"
   ]
  },
  {
   "cell_type": "code",
   "execution_count": 7,
   "id": "38fc06b3",
   "metadata": {},
   "outputs": [
    {
     "name": "stdout",
     "output_type": "stream",
     "text": [
      "10\n"
     ]
    }
   ],
   "source": [
    "class MyClass:\n",
    "    a = 10\n",
    "    b = 20\n",
    "\n",
    "#Accessing variable present inside MyClass\n",
    "print(MyClass.a) "
   ]
  },
  {
   "cell_type": "code",
   "execution_count": 8,
   "id": "81a8689f",
   "metadata": {},
   "outputs": [],
   "source": [
    "class MyClass:\n",
    "    a = 10\n",
    "    b = 20\n",
    "    def add(self):\n",
    "        sum = self.a + self.b\n",
    "        print(sum)"
   ]
  },
  {
   "cell_type": "code",
   "execution_count": 9,
   "id": "65c744d0",
   "metadata": {},
   "outputs": [],
   "source": [
    "ob = MyClass()"
   ]
  },
  {
   "cell_type": "code",
   "execution_count": 10,
   "id": "ef03a8f9",
   "metadata": {},
   "outputs": [
    {
     "name": "stdout",
     "output_type": "stream",
     "text": [
      "10\n",
      "20\n",
      "30\n"
     ]
    }
   ],
   "source": [
    "print(ob.a)\n",
    "print(ob.b)\n",
    "ob.add()"
   ]
  },
  {
   "cell_type": "code",
   "execution_count": 11,
   "id": "d3cd1f2a",
   "metadata": {},
   "outputs": [],
   "source": [
    "class MyClass:\n",
    "    a = 10\n",
    "    b = 20\n",
    "    def add(鄙人):\n",
    "        sum = 鄙人.a + 鄙人.b\n",
    "        print(sum)"
   ]
  },
  {
   "cell_type": "code",
   "execution_count": 12,
   "id": "ae960d49",
   "metadata": {},
   "outputs": [],
   "source": [
    "ob = MyClass()"
   ]
  },
  {
   "cell_type": "code",
   "execution_count": 13,
   "id": "20eeffc3",
   "metadata": {},
   "outputs": [
    {
     "name": "stdout",
     "output_type": "stream",
     "text": [
      "10\n",
      "20\n",
      "30\n"
     ]
    }
   ],
   "source": [
    "print(ob.a)\n",
    "print(ob.b)\n",
    "ob.add()"
   ]
  },
  {
   "cell_type": "code",
   "execution_count": 14,
   "id": "303ecb5e",
   "metadata": {},
   "outputs": [
    {
     "name": "stdout",
     "output_type": "stream",
     "text": [
      "15\n"
     ]
    }
   ],
   "source": [
    "五 = 5\n",
    "十 = 10\n",
    "print(五 + 十)"
   ]
  },
  {
   "cell_type": "markdown",
   "id": "e2c9667c",
   "metadata": {},
   "source": [
    "# Constructor in Python\n"
   ]
  },
  {
   "cell_type": "code",
   "execution_count": 15,
   "id": "57ecfdb2",
   "metadata": {},
   "outputs": [
    {
     "name": "stdout",
     "output_type": "stream",
     "text": [
      "Sum of a and b is:  27\n"
     ]
    }
   ],
   "source": [
    "class MyClass:\n",
    "    sum = 0\n",
    " \n",
    "    def __init__ (self, a, b):\n",
    "          self.sum = a+b\n",
    "\n",
    "    def printSum(self):\n",
    "           print(\"Sum of a and b is: \", self.sum)\n",
    " \n",
    "#Creating an object of class MyClass\n",
    "ob = MyClass(12, 15)\n",
    "ob.printSum() "
   ]
  },
  {
   "cell_type": "code",
   "execution_count": 16,
   "id": "a48baee4",
   "metadata": {},
   "outputs": [],
   "source": [
    "class Car():\n",
    "  def __init__(self, color, brand, model):\n",
    "    self.color = color\n",
    "    self.brand = brand\n",
    "    self.model = model"
   ]
  },
  {
   "cell_type": "code",
   "execution_count": 17,
   "id": "b47e13ea",
   "metadata": {},
   "outputs": [],
   "source": [
    "my_car = Car(\"red\", \"BYD\", \"唐\")"
   ]
  },
  {
   "cell_type": "code",
   "execution_count": 18,
   "id": "634b174c",
   "metadata": {},
   "outputs": [
    {
     "data": {
      "text/plain": [
       "'red'"
      ]
     },
     "execution_count": 18,
     "metadata": {},
     "output_type": "execute_result"
    }
   ],
   "source": [
    "my_car.color"
   ]
  },
  {
   "cell_type": "code",
   "execution_count": 19,
   "id": "ff38b823",
   "metadata": {},
   "outputs": [
    {
     "data": {
      "text/plain": [
       "'唐'"
      ]
     },
     "execution_count": 19,
     "metadata": {},
     "output_type": "execute_result"
    }
   ],
   "source": [
    "my_car.model"
   ]
  },
  {
   "cell_type": "markdown",
   "id": "ce9ece87",
   "metadata": {},
   "source": [
    "Another example:"
   ]
  },
  {
   "cell_type": "code",
   "execution_count": 20,
   "id": "691c1950",
   "metadata": {},
   "outputs": [
    {
     "name": "stdout",
     "output_type": "stream",
     "text": [
      "Employee Name :  Joseph\n",
      "Employee Salary:  187320\n",
      "\n",
      "Employee Name :  Joon\n",
      "Employee Salary:  20300\n",
      "\n",
      "Employee Name :  Stone\n",
      "Employee Salary:  8000\n",
      "\n"
     ]
    }
   ],
   "source": [
    "class Employees(): \n",
    "   def __init__(self, Name, Salary): \n",
    "       self.Name = Name\n",
    "       self.Salary = Salary\n",
    " \n",
    "   def details(self): \n",
    "       print(\"Employee Name : \", self.Name)\n",
    "       print(\"Employee Salary: \", self.Salary)\n",
    "       print()\n",
    " \n",
    "first = Employees(\"Joseph\", 187320) \n",
    "second = Employees(\"Joon\", 20300)\n",
    "third = Employees(\"Stone\", 8000)\n",
    " \n",
    "first.details() \n",
    "second.details() \n",
    "third.details()"
   ]
  },
  {
   "cell_type": "markdown",
   "id": "ead0ec96",
   "metadata": {},
   "source": [
    "# Inheritance"
   ]
  },
  {
   "cell_type": "markdown",
   "id": "b4748e9b",
   "metadata": {},
   "source": [
    "## Creating a Parent Class\n",
    "Creating a Person class with Display methods."
   ]
  },
  {
   "cell_type": "code",
   "execution_count": 21,
   "id": "1d2da66a",
   "metadata": {},
   "outputs": [
    {
     "name": "stdout",
     "output_type": "stream",
     "text": [
      "Sam 1202\n"
     ]
    }
   ],
   "source": [
    "# A Python program to demonstrate inheritance\n",
    " \n",
    "class Person(object):\n",
    "   \n",
    "  # Constructor\n",
    "  def __init__(self, name, id):\n",
    "    self.name = name\n",
    "    self.id = id\n",
    " \n",
    "  # To show person info\n",
    "  def Display(self):\n",
    "    print(self.name, self.id)\n",
    " \n",
    " \n",
    "# Driver code\n",
    "emp = Person(\"Sam\", 1202) # An Object of Person\n",
    "emp.Display()"
   ]
  },
  {
   "cell_type": "markdown",
   "id": "66c06d12",
   "metadata": {},
   "source": [
    "## Creating a Child Class\n",
    "Here Emp is another class which is going to inherit the properties of the Person class(base class)."
   ]
  },
  {
   "cell_type": "code",
   "execution_count": 22,
   "id": "34638dfc",
   "metadata": {},
   "outputs": [
    {
     "name": "stdout",
     "output_type": "stream",
     "text": [
      "Cynthia 1703\n",
      "Emp class called\n"
     ]
    }
   ],
   "source": [
    "class Emp(Person):\n",
    "   \n",
    "  def Print(self):\n",
    "    print(\"Emp class called\")\n",
    "     \n",
    "Emp_details = Emp(\"Cynthia\", 1703)\n",
    " \n",
    "# calling parent class function\n",
    "Emp_details.Display()\n",
    " \n",
    "# Calling child class function\n",
    "Emp_details.Print()"
   ]
  },
  {
   "cell_type": "markdown",
   "id": "a15efcaf",
   "metadata": {},
   "source": [
    "###### Example of Inheritance in Python "
   ]
  },
  {
   "cell_type": "code",
   "execution_count": 23,
   "id": "22e8f81b",
   "metadata": {},
   "outputs": [],
   "source": [
    "class Animal(object):\n",
    "  def __init__(self, name):\n",
    "    self.name = name\n",
    "\n",
    "  def makeSound(self):\n",
    "    print(\"I am an animal\")\n",
    "\n",
    "class Dog(Animal): # Dog extends Animal\n",
    "  def __init__(self, name, breed):\n",
    "    super().__init__(name) # call the base class constructor\n",
    "    self.breed = breed\n",
    "\n",
    "  def makeSound(self):\n",
    "    print(\"Woof\") # override the base class method\n",
    "\n",
    "  def fetch(self, item): # a specific function for Dog\n",
    "    print(f\"{self.name} fetched the {item}\")\n",
    "\n",
    "class Cat(Animal): # Cat extends Animal\n",
    "  def __init__(self, name, color):\n",
    "    super().__init__(name) # call the base class constructor\n",
    "    self.color = color\n",
    "\n",
    "  def makeSound(self):\n",
    "    print(\"Meow\") # override the base class method\n",
    "\n",
    "  def scratch(self, target): # a specific function for Cat\n",
    "    print(f\"{self.name} scratched the {target}\")"
   ]
  },
  {
   "cell_type": "markdown",
   "id": "4573918e",
   "metadata": {},
   "source": [
    "Now I can create objects of these classes and call their specific functions like this:"
   ]
  },
  {
   "cell_type": "code",
   "execution_count": 24,
   "id": "d7fbe1df",
   "metadata": {},
   "outputs": [
    {
     "name": "stdout",
     "output_type": "stream",
     "text": [
      "Spot fetched the ball\n",
      "Woof\n"
     ]
    }
   ],
   "source": [
    "dog = Dog(\"Spot\", \"Labrador\")\n",
    "dog.fetch(\"ball\") # prints \"Spot fetched the ball\"\n",
    "dog.makeSound()"
   ]
  },
  {
   "cell_type": "code",
   "execution_count": 25,
   "id": "8cf3f726",
   "metadata": {},
   "outputs": [
    {
     "name": "stdout",
     "output_type": "stream",
     "text": [
      "Fluffy scratched the couch\n",
      "Meow\n"
     ]
    }
   ],
   "source": [
    "cat = Cat(\"Fluffy\", \"White\")\n",
    "cat.scratch(\"couch\") # prints \"Fluffy scratched the couch\"\n",
    "cat.makeSound()"
   ]
  }
 ],
 "metadata": {
  "kernelspec": {
   "display_name": "Python 3 (ipykernel)",
   "language": "python",
   "name": "python3"
  },
  "language_info": {
   "codemirror_mode": {
    "name": "ipython",
    "version": 3
   },
   "file_extension": ".py",
   "mimetype": "text/x-python",
   "name": "python",
   "nbconvert_exporter": "python",
   "pygments_lexer": "ipython3",
   "version": "3.10.12"
  },
  "toc": {
   "base_numbering": 1,
   "nav_menu": {},
   "number_sections": true,
   "sideBar": true,
   "skip_h1_title": false,
   "title_cell": "Table of Contents",
   "title_sidebar": "Contents",
   "toc_cell": false,
   "toc_position": {},
   "toc_section_display": true,
   "toc_window_display": false
  }
 },
 "nbformat": 4,
 "nbformat_minor": 5
}
