{
 "cells": [
  {
   "cell_type": "markdown",
   "id": "4ea37d52",
   "metadata": {},
   "source": [
    "# Sequential"
   ]
  },
  {
   "cell_type": "code",
   "execution_count": 1,
   "id": "a5bad0cd",
   "metadata": {},
   "outputs": [
    {
     "name": "stdout",
     "output_type": "stream",
     "text": [
      "Subtraction is :  10\n"
     ]
    }
   ],
   "source": [
    "a=20\n",
    "b=10\n",
    "c=a-b\n",
    "print(\"Subtraction is : \",c)"
   ]
  },
  {
   "cell_type": "markdown",
   "id": "9a245af2",
   "metadata": {},
   "source": [
    "# Condition"
   ]
  },
  {
   "cell_type": "code",
   "execution_count": 2,
   "id": "02a8861f",
   "metadata": {},
   "outputs": [
    {
     "data": {
      "text/plain": [
       "True"
      ]
     },
     "execution_count": 2,
     "metadata": {},
     "output_type": "execute_result"
    }
   ],
   "source": [
    "list0 = [1, 5, 7, 9]\n",
    "\n",
    "9 in list0"
   ]
  },
  {
   "cell_type": "code",
   "execution_count": 3,
   "id": "2bfcd6c8",
   "metadata": {},
   "outputs": [
    {
     "data": {
      "text/plain": [
       "False"
      ]
     },
     "execution_count": 3,
     "metadata": {},
     "output_type": "execute_result"
    }
   ],
   "source": [
    "6 in list0"
   ]
  },
  {
   "cell_type": "code",
   "execution_count": 4,
   "id": "ff63bfcf",
   "metadata": {},
   "outputs": [
    {
     "data": {
      "text/plain": [
       "True"
      ]
     },
     "execution_count": 4,
     "metadata": {},
     "output_type": "execute_result"
    }
   ],
   "source": [
    "'w' in 'why'"
   ]
  },
  {
   "cell_type": "code",
   "execution_count": 5,
   "id": "f82fb06e",
   "metadata": {},
   "outputs": [
    {
     "data": {
      "text/plain": [
       "False"
      ]
     },
     "execution_count": 5,
     "metadata": {},
     "output_type": "execute_result"
    }
   ],
   "source": [
    "'x' in 'why'"
   ]
  },
  {
   "cell_type": "code",
   "execution_count": 6,
   "id": "0d52ed64",
   "metadata": {},
   "outputs": [],
   "source": [
    "dict0 = {1:'one', 2:'two'}"
   ]
  },
  {
   "cell_type": "code",
   "execution_count": 7,
   "id": "9b3fcdce",
   "metadata": {},
   "outputs": [
    {
     "data": {
      "text/plain": [
       "True"
      ]
     },
     "execution_count": 7,
     "metadata": {},
     "output_type": "execute_result"
    }
   ],
   "source": [
    "1 in dict0"
   ]
  },
  {
   "cell_type": "code",
   "execution_count": 8,
   "id": "72e1db4c",
   "metadata": {},
   "outputs": [
    {
     "data": {
      "text/plain": [
       "False"
      ]
     },
     "execution_count": 8,
     "metadata": {},
     "output_type": "execute_result"
    }
   ],
   "source": [
    "3 in dict0"
   ]
  },
  {
   "cell_type": "code",
   "execution_count": 9,
   "id": "ef1d7be2",
   "metadata": {},
   "outputs": [],
   "source": [
    "A = True\n",
    "B = False"
   ]
  },
  {
   "cell_type": "code",
   "execution_count": 10,
   "id": "1e51ffbc",
   "metadata": {},
   "outputs": [
    {
     "data": {
      "text/plain": [
       "False"
      ]
     },
     "execution_count": 10,
     "metadata": {},
     "output_type": "execute_result"
    }
   ],
   "source": [
    "A and B"
   ]
  },
  {
   "cell_type": "code",
   "execution_count": 11,
   "id": "7ee9166c",
   "metadata": {},
   "outputs": [
    {
     "data": {
      "text/plain": [
       "True"
      ]
     },
     "execution_count": 11,
     "metadata": {},
     "output_type": "execute_result"
    }
   ],
   "source": [
    "A or B"
   ]
  },
  {
   "cell_type": "code",
   "execution_count": 12,
   "id": "65b74f34",
   "metadata": {},
   "outputs": [
    {
     "data": {
      "text/plain": [
       "False"
      ]
     },
     "execution_count": 12,
     "metadata": {},
     "output_type": "execute_result"
    }
   ],
   "source": [
    "not A"
   ]
  },
  {
   "cell_type": "code",
   "execution_count": 13,
   "id": "e31f8a99",
   "metadata": {},
   "outputs": [],
   "source": [
    "C = False"
   ]
  },
  {
   "cell_type": "code",
   "execution_count": 14,
   "id": "82c59485",
   "metadata": {},
   "outputs": [
    {
     "data": {
      "text/plain": [
       "False"
      ]
     },
     "execution_count": 14,
     "metadata": {},
     "output_type": "execute_result"
    }
   ],
   "source": [
    "(A or B) and C"
   ]
  },
  {
   "cell_type": "code",
   "execution_count": 15,
   "id": "e3bb4249",
   "metadata": {
    "scrolled": true
   },
   "outputs": [
    {
     "data": {
      "text/plain": [
       "False"
      ]
     },
     "execution_count": 15,
     "metadata": {},
     "output_type": "execute_result"
    }
   ],
   "source": [
    "(10 > 5) and (5 > 7)"
   ]
  },
  {
   "cell_type": "code",
   "execution_count": 16,
   "id": "e1a38cef",
   "metadata": {
    "scrolled": true
   },
   "outputs": [
    {
     "data": {
      "text/plain": [
       "True"
      ]
     },
     "execution_count": 16,
     "metadata": {},
     "output_type": "execute_result"
    }
   ],
   "source": [
    "(10 > 5) or (5 > 7)"
   ]
  },
  {
   "cell_type": "markdown",
   "id": "3bc82900",
   "metadata": {},
   "source": [
    "# Selection/Decision control"
   ]
  },
  {
   "cell_type": "code",
   "execution_count": 17,
   "id": "f6eaeae6",
   "metadata": {},
   "outputs": [
    {
     "name": "stdout",
     "output_type": "stream",
     "text": [
      "n is an even number\n",
      "end\n"
     ]
    }
   ],
   "source": [
    "n = 10\n",
    "if n % 2 == 0:\n",
    "    print(\"n is an even number\")\n",
    "print('end')"
   ]
  },
  {
   "cell_type": "code",
   "execution_count": 18,
   "id": "5cde2804",
   "metadata": {},
   "outputs": [
    {
     "name": "stdout",
     "output_type": "stream",
     "text": [
      "n is an even number\n",
      "n is an 偶数哦\n",
      ":)\n",
      "end\n"
     ]
    }
   ],
   "source": [
    "n = 10\n",
    "if n % 2 == 0:\n",
    "    print(\"n is an even number\")\n",
    "    print(\"n is an 偶数哦\")\n",
    "    print(\":)\")\n",
    "print('end')"
   ]
  },
  {
   "cell_type": "code",
   "execution_count": 19,
   "id": "27d5b63e",
   "metadata": {
    "scrolled": true
   },
   "outputs": [
    {
     "ename": "IndentationError",
     "evalue": "expected an indented block after 'if' statement on line 2 (3456476316.py, line 3)",
     "output_type": "error",
     "traceback": [
      "\u001b[1;36m  Cell \u001b[1;32mIn[19], line 3\u001b[1;36m\u001b[0m\n\u001b[1;33m    print(\"n is an even number\")\u001b[0m\n\u001b[1;37m    ^\u001b[0m\n\u001b[1;31mIndentationError\u001b[0m\u001b[1;31m:\u001b[0m expected an indented block after 'if' statement on line 2\n"
     ]
    }
   ],
   "source": [
    "n = 10\n",
    "if n % 2 == 0:\n",
    "print(\"n is an even number\")\n",
    "print('end')"
   ]
  },
  {
   "cell_type": "code",
   "execution_count": 20,
   "id": "007d8c73",
   "metadata": {
    "scrolled": true
   },
   "outputs": [
    {
     "name": "stdout",
     "output_type": "stream",
     "text": [
      "n is an even number\n",
      "end\n"
     ]
    }
   ],
   "source": [
    "n = 10\n",
    "if n % 2 == 0:\n",
    " print(\"n is an even number\")\n",
    "print('end')"
   ]
  },
  {
   "cell_type": "code",
   "execution_count": 21,
   "id": "81f954ec",
   "metadata": {
    "scrolled": true
   },
   "outputs": [
    {
     "name": "stdout",
     "output_type": "stream",
     "text": [
      "n is an even number\n",
      "end\n"
     ]
    }
   ],
   "source": [
    "n = 10\n",
    "if n % 2 == 0:\n",
    "  print(\"n is an even number\")\n",
    "print('end')"
   ]
  },
  {
   "cell_type": "code",
   "execution_count": 22,
   "id": "b6f7ae78",
   "metadata": {
    "scrolled": true
   },
   "outputs": [
    {
     "name": "stdout",
     "output_type": "stream",
     "text": [
      "n is an even number\n",
      "end\n"
     ]
    }
   ],
   "source": [
    "n = 10\n",
    "if n % 2 == 0:\n",
    "   print(\"n is an even number\")\n",
    "print('end')"
   ]
  },
  {
   "cell_type": "markdown",
   "id": "3468e4ab",
   "metadata": {},
   "source": [
    "Simple if "
   ]
  },
  {
   "cell_type": "code",
   "execution_count": 23,
   "id": "96c41bfe",
   "metadata": {
    "scrolled": true
   },
   "outputs": [
    {
     "name": "stdout",
     "output_type": "stream",
     "text": [
      "n is an even number\n",
      "end\n"
     ]
    }
   ],
   "source": [
    "n = 10\n",
    "if n % 2 == 0:\n",
    "    print(\"n is an even number\")\n",
    "print('end')"
   ]
  },
  {
   "cell_type": "markdown",
   "id": "875103ae",
   "metadata": {},
   "source": [
    "if-else "
   ]
  },
  {
   "cell_type": "code",
   "execution_count": 24,
   "id": "25bfbd15",
   "metadata": {},
   "outputs": [
    {
     "name": "stdout",
     "output_type": "stream",
     "text": [
      "n is odd\n",
      "end\n"
     ]
    }
   ],
   "source": [
    "n = 5\n",
    "if n % 2 == 0:\n",
    "    print(\"n is even\")\n",
    "else:\n",
    "    print(\"n is odd\")\n",
    "print('end')"
   ]
  },
  {
   "cell_type": "code",
   "execution_count": 25,
   "id": "feb8160d",
   "metadata": {},
   "outputs": [
    {
     "name": "stdout",
     "output_type": "stream",
     "text": [
      "n is even\n",
      "end\n"
     ]
    }
   ],
   "source": [
    "n = 10\n",
    "if n % 2 == 0:\n",
    "    print(\"n is even\")\n",
    "else:\n",
    "    print(\"n is odd\")\n",
    "print('end')"
   ]
  },
  {
   "cell_type": "markdown",
   "id": "6710ef9e",
   "metadata": {},
   "source": [
    "multiple conditions"
   ]
  },
  {
   "cell_type": "code",
   "execution_count": 26,
   "id": "1ac02449",
   "metadata": {},
   "outputs": [
    {
     "name": "stdout",
     "output_type": "stream",
     "text": [
      "Both are Equal\n"
     ]
    }
   ],
   "source": [
    "x = 9\n",
    "y = 9\n",
    "if x == y:\n",
    "    print(\"Both are Equal\")\n",
    "elif x > y:\n",
    "    print(\"x is greater than y\")\n",
    "else:\n",
    "    print(\"x is smaller than y\")"
   ]
  },
  {
   "cell_type": "code",
   "execution_count": 27,
   "id": "32c8eb3c",
   "metadata": {},
   "outputs": [
    {
     "name": "stdout",
     "output_type": "stream",
     "text": [
      "x is greater than y\n"
     ]
    }
   ],
   "source": [
    "x = 9\n",
    "y = 2\n",
    "if x == y:\n",
    "    print(\"Both are Equal\")\n",
    "elif x > y:\n",
    "    print(\"x is greater than y\")\n",
    "else:\n",
    "    print(\"x is smaller than y\")"
   ]
  },
  {
   "cell_type": "code",
   "execution_count": 28,
   "id": "73810390",
   "metadata": {},
   "outputs": [
    {
     "name": "stdout",
     "output_type": "stream",
     "text": [
      "x is smaller than y\n"
     ]
    }
   ],
   "source": [
    "x = 9\n",
    "y = 20\n",
    "if x == y:\n",
    "    print(\"Both are Equal\")\n",
    "else:\n",
    "    if x > y:\n",
    "        print(\"x is greater than y\")\n",
    "    else:\n",
    "        print(\"x is smaller than y\")"
   ]
  },
  {
   "cell_type": "markdown",
   "id": "f6222e67",
   "metadata": {},
   "source": [
    "Example: Assigning a letter grade based on a numerical score"
   ]
  },
  {
   "cell_type": "code",
   "execution_count": 29,
   "id": "90f0b0c2",
   "metadata": {
    "scrolled": true
   },
   "outputs": [
    {
     "name": "stdout",
     "output_type": "stream",
     "text": [
      "Your grade is: B\n"
     ]
    }
   ],
   "source": [
    "score = 85\n",
    "\n",
    "if score >= 90:\n",
    "    grade = \"A\"\n",
    "elif score >= 80:\n",
    "    grade = \"B\"\n",
    "elif score >= 70:\n",
    "    grade = \"C\"\n",
    "elif score >= 60:\n",
    "    grade = \"D\"\n",
    "else:\n",
    "    grade = \"F\"\n",
    "\n",
    "print(\"Your grade is:\", grade)"
   ]
  },
  {
   "cell_type": "markdown",
   "id": "6f7ef1eb",
   "metadata": {},
   "source": [
    "nested if"
   ]
  },
  {
   "cell_type": "code",
   "execution_count": 30,
   "id": "c7f6574d",
   "metadata": {},
   "outputs": [
    {
     "name": "stdout",
     "output_type": "stream",
     "text": [
      "c is big\n"
     ]
    }
   ],
   "source": [
    "a = 5\n",
    "b = 10\n",
    "c = 15\n",
    "if a > b:\n",
    "    if a > c:\n",
    "        print(\"a value is big\")\n",
    "    else:\n",
    "        print(\"c value is big\")\n",
    "elif b > c:\n",
    "    print(\"b value is big\")\n",
    "else:\n",
    "    print(\"c is big\")"
   ]
  },
  {
   "cell_type": "markdown",
   "id": "600ef103",
   "metadata": {},
   "source": [
    "Checking if a year is a leap year"
   ]
  },
  {
   "cell_type": "code",
   "execution_count": 31,
   "id": "a00716fd",
   "metadata": {},
   "outputs": [
    {
     "name": "stdout",
     "output_type": "stream",
     "text": [
      "2023 is not a leap year.\n"
     ]
    }
   ],
   "source": [
    "year = 2023\n",
    "\n",
    "if year % 4 == 0:\n",
    "    if year % 100 == 0:\n",
    "        if year % 400 == 0:\n",
    "            print(year, \"is a leap year.\")\n",
    "        else:\n",
    "            print(year, \"is not a leap year.\")\n",
    "    else:\n",
    "        print(year, \"is a leap year.\")\n",
    "else:\n",
    "    print(year, \"is not a leap year.\")"
   ]
  },
  {
   "cell_type": "code",
   "execution_count": 32,
   "id": "87e37909",
   "metadata": {},
   "outputs": [
    {
     "name": "stdout",
     "output_type": "stream",
     "text": [
      "2020 is a leap year.\n"
     ]
    }
   ],
   "source": [
    "year = 2020\n",
    "\n",
    "if year % 4 == 0:\n",
    "    if year % 100 == 0:\n",
    "        if year % 400 == 0:\n",
    "            print(year, \"is a leap year.\")\n",
    "        else:\n",
    "            print(year, \"is not a leap year.\")\n",
    "    else:\n",
    "        print(year, \"is a leap year.\")\n",
    "else:\n",
    "    print(year, \"is not a leap year.\")"
   ]
  },
  {
   "cell_type": "code",
   "execution_count": 33,
   "id": "098debfe",
   "metadata": {},
   "outputs": [
    {
     "name": "stdout",
     "output_type": "stream",
     "text": [
      "2000 is a leap year.\n"
     ]
    }
   ],
   "source": [
    "year = 2000\n",
    "\n",
    "if year % 4 == 0:\n",
    "    if year % 100 == 0:\n",
    "        if year % 400 == 0:\n",
    "            print(year, \"is a leap year.\")\n",
    "        else:\n",
    "            print(year, \"is not a leap year.\")\n",
    "    else:\n",
    "        print(year, \"is a leap year.\")\n",
    "else:\n",
    "    print(year, \"is not a leap year.\")"
   ]
  },
  {
   "cell_type": "code",
   "execution_count": 34,
   "id": "44588225",
   "metadata": {},
   "outputs": [
    {
     "name": "stdout",
     "output_type": "stream",
     "text": [
      "1900 is not a leap year.\n"
     ]
    }
   ],
   "source": [
    "year = 1900\n",
    "\n",
    "if year % 4 == 0:\n",
    "    if year % 100 == 0:\n",
    "        if year % 400 == 0:\n",
    "            print(year, \"is a leap year.\")\n",
    "        else:\n",
    "            print(year, \"is not a leap year.\")\n",
    "    else:\n",
    "        print(year, \"is a leap year.\")\n",
    "else:\n",
    "    print(year, \"is not a leap year.\")"
   ]
  },
  {
   "cell_type": "markdown",
   "id": "d3839907",
   "metadata": {},
   "source": [
    "Rock Paper Scissors\n"
   ]
  },
  {
   "cell_type": "code",
   "execution_count": 36,
   "id": "764397e9",
   "metadata": {},
   "outputs": [
    {
     "name": "stdout",
     "output_type": "stream",
     "text": [
      "Choose rock, paper or scissors: rock\n",
      "You win. rock smashes scissors.\n"
     ]
    }
   ],
   "source": [
    "import random\n",
    "\n",
    "options = [\"rock\", \"paper\", \"scissors\"] # define the options\n",
    "computer = random.choice(options) # choose a random option for the computer\n",
    "user = input(\"Choose rock, paper or scissors: \") # get the user input\n",
    "\n",
    "if user == computer: # check if it's a tie\n",
    "    print(f\"It's a tie. You both chose {user}.\")\n",
    "elif user == \"rock\": # check if the user chose rock\n",
    "    if computer == \"paper\": # check if the computer chose paper\n",
    "        print(f\"You lose. {computer} covers {user}.\")\n",
    "    else: # check if the computer chose scissors\n",
    "        print(f\"You win. {user} smashes {computer}.\")\n",
    "elif user == \"paper\": # check if the user chose paper\n",
    "    if computer == \"scissors\": # check if the computer chose scissors\n",
    "        print(f\"You lose. {computer} cuts {user}.\")\n",
    "    else: # check if the computer chose rock\n",
    "        print(f\"You win. {user} covers {computer}.\")\n",
    "elif user == \"scissors\": # check if the user chose scissors\n",
    "    if computer == \"rock\": # check if the computer chose rock\n",
    "        print(f\"You lose. {computer} smashes {user}.\")\n",
    "    else: # check if the computer chose paper\n",
    "        print(f\"You win. {user} cuts {computer}.\")\n",
    "else: # check if the user input is invalid\n",
    "    print(\"Invalid input.\")"
   ]
  },
  {
   "cell_type": "markdown",
   "id": "5d16b4a2",
   "metadata": {},
   "source": [
    "# Repetition"
   ]
  },
  {
   "cell_type": "markdown",
   "id": "15647bdc",
   "metadata": {},
   "source": [
    "## For loop"
   ]
  },
  {
   "cell_type": "code",
   "execution_count": 37,
   "id": "e15f910d",
   "metadata": {},
   "outputs": [
    {
     "name": "stdout",
     "output_type": "stream",
     "text": [
      "H e l l o "
     ]
    }
   ],
   "source": [
    "name = \"Hello\"\n",
    " \n",
    "for letter in name:\n",
    "  print(letter, end = \" \")"
   ]
  },
  {
   "cell_type": "markdown",
   "id": "ec4577d1",
   "metadata": {},
   "source": [
    "Is number iterable? "
   ]
  },
  {
   "cell_type": "code",
   "execution_count": 38,
   "id": "3f49edcc",
   "metadata": {},
   "outputs": [
    {
     "ename": "TypeError",
     "evalue": "'int' object is not iterable",
     "output_type": "error",
     "traceback": [
      "\u001b[1;31m---------------------------------------------------------------------------\u001b[0m",
      "\u001b[1;31mTypeError\u001b[0m                                 Traceback (most recent call last)",
      "Cell \u001b[1;32mIn[38], line 2\u001b[0m\n\u001b[0;32m      1\u001b[0m number \u001b[38;5;241m=\u001b[39m \u001b[38;5;241m5\u001b[39m\n\u001b[1;32m----> 2\u001b[0m \u001b[38;5;28;01mfor\u001b[39;00m i \u001b[38;5;129;01min\u001b[39;00m number:\n\u001b[0;32m      3\u001b[0m   \u001b[38;5;28mprint\u001b[39m(i)\n",
      "\u001b[1;31mTypeError\u001b[0m: 'int' object is not iterable"
     ]
    }
   ],
   "source": [
    "number = 5\n",
    "for i in number:\n",
    "  print(i)"
   ]
  },
  {
   "cell_type": "markdown",
   "id": "04862a5e",
   "metadata": {},
   "source": [
    "range"
   ]
  },
  {
   "cell_type": "code",
   "execution_count": null,
   "id": "371fe994",
   "metadata": {},
   "outputs": [],
   "source": [
    "for i in range(10):\n",
    "    print(i, end=\"|\")"
   ]
  },
  {
   "cell_type": "code",
   "execution_count": null,
   "id": "095d9a65",
   "metadata": {},
   "outputs": [],
   "source": [
    "for i in range(1,10):\n",
    "    print(i, end=\"|\")"
   ]
  },
  {
   "cell_type": "code",
   "execution_count": 39,
   "id": "dfd1b8c7",
   "metadata": {},
   "outputs": [
    {
     "name": "stdout",
     "output_type": "stream",
     "text": [
      "1|3|5|7|9|"
     ]
    }
   ],
   "source": [
    "for i in range(1,10,2):\n",
    "    print(i, end=\"|\")"
   ]
  },
  {
   "cell_type": "code",
   "execution_count": 40,
   "id": "46ca0d42",
   "metadata": {},
   "outputs": [
    {
     "name": "stdout",
     "output_type": "stream",
     "text": [
      "10|9|8|7|6|5|4|3|2|"
     ]
    }
   ],
   "source": [
    "for i in range(10,1,-1):\n",
    "    print(i, end=\"|\")"
   ]
  },
  {
   "cell_type": "code",
   "execution_count": 41,
   "id": "3a93514e",
   "metadata": {},
   "outputs": [
    {
     "name": "stdout",
     "output_type": "stream",
     "text": [
      "1\n",
      "2\n",
      "3\n",
      "4\n"
     ]
    }
   ],
   "source": [
    "# A for loop that prints numbers from 1 to 10\n",
    "for i in range(1, 11):\n",
    "  # If i is equal to 5, break the loop\n",
    "  if i == 5:\n",
    "    break\n",
    "  # Otherwise, print i\n",
    "  else:\n",
    "    print(i)"
   ]
  },
  {
   "cell_type": "code",
   "execution_count": 42,
   "id": "9480a1cd",
   "metadata": {
    "scrolled": true
   },
   "outputs": [
    {
     "name": "stdout",
     "output_type": "stream",
     "text": [
      "The capital city of France is Paris.\n",
      "The capital city of Germany is Berlin.\n",
      "The capital city of Italy is Rome.\n",
      "The capital city of Spain is Madrid.\n"
     ]
    }
   ],
   "source": [
    "country_capitals = {\"France\": \"Paris\", \"Germany\": \"Berlin\", \"Italy\": \"Rome\", \"Spain\": \"Madrid\"}\n",
    "\n",
    "# We use the items() method to get a view object that contains the key and the value of each pair as a tuple.\n",
    "# We use a for loop to iterate over this view object and extract the key and the value of each pair.\n",
    "for country, capital in country_capitals.items():\n",
    "    # We can print the country and its capital city.\n",
    "    print(f\"The capital city of {country} is {capital}.\")"
   ]
  },
  {
   "cell_type": "code",
   "execution_count": 43,
   "id": "0e3d95a5",
   "metadata": {},
   "outputs": [
    {
     "name": "stdout",
     "output_type": "stream",
     "text": [
      "The capital city of France is Paris.\n",
      "That's a bit tricky!\n",
      "The capital city of Germany is Berlin.\n",
      "That's a bit tricky!\n",
      "The capital city of Italy is Rome.\n",
      "That's a bit tricky!\n",
      "The capital city of Spain is Madrid.\n",
      "That's a bit tricky!\n"
     ]
    }
   ],
   "source": [
    "country_capitals = {\"France\": \"Paris\", \"Germany\": \"Berlin\", \"Italy\": \"Rome\", \"Spain\": \"Madrid\"}\n",
    "\n",
    "# We use the items() method to get a view object that contains the key and the value of each pair as a tuple.\n",
    "# We use a for loop to iterate over this view object and extract the key and the value of each pair.\n",
    "for country, capital in country_capitals.items():\n",
    "    # We can print the country and its capital city.\n",
    "    print(f\"The capital city of {country} is {capital}.\")\n",
    "    # We can also check if the country and its capital start with the same letter and print a message accordingly.\n",
    "    if country[0] == capital[0]:\n",
    "        print(f\"That's easy to remember!\")\n",
    "    else:\n",
    "        print(f\"That's a bit tricky!\")"
   ]
  },
  {
   "cell_type": "code",
   "execution_count": 44,
   "id": "679f59f0",
   "metadata": {},
   "outputs": [
    {
     "name": "stdout",
     "output_type": "stream",
     "text": [
      "1,1,2,3,5,8,13,21,34,55,"
     ]
    }
   ],
   "source": [
    "# In this example, we will use a for loop to print the Fibonacci sequence up to a certain limit.\n",
    "# The Fibonacci sequence is a series of numbers where each number is the sum of the previous two numbers.\n",
    "# The first two numbers are 1 and 1. For example: 1, 1, 2, 3, 5, 8, 13, 21, ...\n",
    "\n",
    "# We will use two variables to store the previous two numbers and update them in each iteration.\n",
    "a = 1 # The first number\n",
    "b = 1 # The second number\n",
    "\n",
    "# We will use a variable to store the limit of the sequence.\n",
    "limit = 100\n",
    "\n",
    "# We will use a for loop to iterate over a range object that starts from 0 and ends at limit.\n",
    "# The range object returns numbers from 0 to limit-1 in steps of 1 by default.\n",
    "for i in range(limit):\n",
    "    # We will print the current value of a in each iteration.\n",
    "    print(a, end=',')\n",
    "    # We will calculate the next number in the sequence by adding a and b.\n",
    "    next_number = a + b\n",
    "    # We will update the values of a and b by assigning b to a and next_number to b.\n",
    "    a = b\n",
    "    b = next_number\n",
    "    # We will check if the next number is greater than or equal to the limit.\n",
    "    # If so, we will break out of the loop using the break statement.\n",
    "    if next_number >= limit:\n",
    "        break"
   ]
  },
  {
   "cell_type": "markdown",
   "id": "9fc715a7",
   "metadata": {},
   "source": [
    "## While loop and break\n"
   ]
  },
  {
   "cell_type": "code",
   "execution_count": 48,
   "id": "673db7ef",
   "metadata": {},
   "outputs": [
    {
     "name": "stdout",
     "output_type": "stream",
     "text": [
      "I'm thinking of a number from 1 to 10.\n",
      "Can you guess it?\n",
      "Enter your guess: 6\n",
      "You got it!\n"
     ]
    }
   ],
   "source": [
    "import random\n",
    "\n",
    "number = random.randint(1, 10)\n",
    "print(\"I'm thinking of a number from 1 to 10.\")\n",
    "print(\"Can you guess it?\")\n",
    "\n",
    "user_input = 0\n",
    "while user_input != number:\n",
    "    user_input = int(input(\"Enter your guess: \"))\n",
    "    if user_input < number:\n",
    "        print(\"Too low.\")\n",
    "    elif user_input > number:\n",
    "        print(\"Too high.\")\n",
    "    else:\n",
    "        print(\"You got it!\")\n"
   ]
  },
  {
   "cell_type": "code",
   "execution_count": 49,
   "id": "942bc642",
   "metadata": {},
   "outputs": [
    {
     "name": "stdout",
     "output_type": "stream",
     "text": [
      "You are awesome!\n",
      ":)\n",
      "You are smart!\n",
      ":)\n",
      "You are beautiful!\n",
      ":)\n",
      "You are amazing!\n",
      ":)\n"
     ]
    }
   ],
   "source": [
    "# A for loop that prints compliments from a list\n",
    "compliments = [\"You are awesome!\",\n",
    "               \"You are smart!\",\n",
    "               \"You are funny!\",\n",
    "               \"You are beautiful!\",\n",
    "               \"You are amazing!\"]\n",
    "for compliment in compliments:\n",
    "  # If the compliment contains funny, skip it\n",
    "  if \"funny\" in compliment:\n",
    "    continue\n",
    "  # Otherwise, print the compliment and a smiley face\n",
    "  else:\n",
    "    print(compliment)\n",
    "    print(\":)\")"
   ]
  },
  {
   "cell_type": "code",
   "execution_count": 50,
   "id": "9f9b4215",
   "metadata": {},
   "outputs": [
    {
     "name": "stdout",
     "output_type": "stream",
     "text": [
      "You are awesome!\n",
      ":)\n",
      "You are smart!\n",
      ":)\n"
     ]
    }
   ],
   "source": [
    "# A for loop that prints compliments from a list\n",
    "compliments = [\"You are awesome!\",\n",
    "               \"You are smart!\",\n",
    "               \"You are funny!\",\n",
    "               \"You are beautiful!\",\n",
    "               \"You are amazing!\"]\n",
    "for compliment in compliments:\n",
    "  # If the compliment contains funny, break the loop\n",
    "  if \"funny\" in compliment:\n",
    "    break\n",
    "  # Otherwise, print the compliment and a smiley face\n",
    "  else:\n",
    "    print(compliment)\n",
    "    print(\":)\")"
   ]
  },
  {
   "cell_type": "code",
   "execution_count": 51,
   "id": "56e34c39",
   "metadata": {},
   "outputs": [],
   "source": [
    "# We will use a pass statement to indicate that the block of code for the if or else branch has no content yet.\n",
    "x = 10\n",
    "y = 5\n",
    "if x > y:\n",
    "    pass # This block will execute when x is greater than y\n",
    "else:\n",
    "    pass # This block will execute when x is not greater than y"
   ]
  },
  {
   "cell_type": "code",
   "execution_count": 52,
   "id": "99e8f116",
   "metadata": {},
   "outputs": [
    {
     "name": "stdout",
     "output_type": "stream",
     "text": [
      "Enter the ending integer: 3\n",
      "1 2 Fizz "
     ]
    }
   ],
   "source": [
    "n = -1\n",
    "while(n<0):\n",
    "    n = int(input(\"Enter the ending integer: \"))\n",
    "\n",
    "for i in range(1, n+1):\n",
    "    if i % 3 == 0 and i % 5 == 0:\n",
    "        print(\"FizzBuzz\",end=\" \")\n",
    "    elif i % 3 == 0:\n",
    "        print(\"Fizz\", end= \" \")\n",
    "    elif i % 5 == 0:\n",
    "        print(\"Buzz\", end = \" \")\n",
    "    else:\n",
    "        print(i, end = \" \")"
   ]
  },
  {
   "cell_type": "code",
   "execution_count": null,
   "id": "250daa78",
   "metadata": {},
   "outputs": [],
   "source": []
  }
 ],
 "metadata": {
  "kernelspec": {
   "display_name": "Python 3 (ipykernel)",
   "language": "python",
   "name": "python3"
  },
  "language_info": {
   "codemirror_mode": {
    "name": "ipython",
    "version": 3
   },
   "file_extension": ".py",
   "mimetype": "text/x-python",
   "name": "python",
   "nbconvert_exporter": "python",
   "pygments_lexer": "ipython3",
   "version": "3.10.12"
  },
  "toc": {
   "base_numbering": 1,
   "nav_menu": {},
   "number_sections": true,
   "sideBar": true,
   "skip_h1_title": false,
   "title_cell": "Table of Contents",
   "title_sidebar": "Contents",
   "toc_cell": false,
   "toc_position": {},
   "toc_section_display": true,
   "toc_window_display": false
  }
 },
 "nbformat": 4,
 "nbformat_minor": 5
}
