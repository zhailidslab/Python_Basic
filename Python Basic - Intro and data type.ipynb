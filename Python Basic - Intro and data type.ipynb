{
 "cells": [
  {
   "cell_type": "markdown",
   "id": "a28c7074",
   "metadata": {},
   "source": [
    "# Variables\n"
   ]
  },
  {
   "cell_type": "code",
   "execution_count": 1,
   "id": "bde40628",
   "metadata": {},
   "outputs": [
    {
     "name": "stdout",
     "output_type": "stream",
     "text": [
      "5\n",
      "3151005483376\n"
     ]
    }
   ],
   "source": [
    "# Create a variable named x and assign it the value 5\n",
    "x = 5\n",
    "\n",
    "# Print the value of x\n",
    "print(x)\n",
    "print(id(x))"
   ]
  },
  {
   "cell_type": "code",
   "execution_count": 2,
   "id": "2644373d",
   "metadata": {},
   "outputs": [
    {
     "name": "stdout",
     "output_type": "stream",
     "text": [
      "10\n",
      "3151005483536\n"
     ]
    }
   ],
   "source": [
    "x = 10\n",
    "print(x)\n",
    "print(id(x))"
   ]
  },
  {
   "cell_type": "code",
   "execution_count": 3,
   "id": "f77af3dd",
   "metadata": {},
   "outputs": [
    {
     "name": "stdout",
     "output_type": "stream",
     "text": [
      "5\n",
      "3151005483376\n"
     ]
    }
   ],
   "source": [
    "y = 5\n",
    "print(y)\n",
    "print(id(y))"
   ]
  },
  {
   "cell_type": "code",
   "execution_count": 4,
   "id": "e2b9d8cf",
   "metadata": {},
   "outputs": [
    {
     "name": "stdout",
     "output_type": "stream",
     "text": [
      "John\n"
     ]
    }
   ],
   "source": [
    "# Create a variable named y and assign it the value \"John\"\n",
    "y = \"John\"\n",
    "\n",
    "# Print the value of y\n",
    "print(y)"
   ]
  },
  {
   "cell_type": "code",
   "execution_count": 5,
   "id": "a369b62f",
   "metadata": {},
   "outputs": [
    {
     "name": "stdout",
     "output_type": "stream",
     "text": [
      "10\n"
     ]
    }
   ],
   "source": [
    "# Change the value of x to 10\n",
    "x = 10\n",
    "\n",
    "# Print the new value of x\n",
    "print(x)"
   ]
  },
  {
   "cell_type": "code",
   "execution_count": 6,
   "id": "18851a00",
   "metadata": {},
   "outputs": [
    {
     "name": "stdout",
     "output_type": "stream",
     "text": [
      "3151005483536 3151005483536\n",
      "True\n"
     ]
    }
   ],
   "source": [
    "x = 10\n",
    "y = x\n",
    "\n",
    "print(id(x),id(y))\n",
    "print(id(x) == id(y))"
   ]
  },
  {
   "cell_type": "code",
   "execution_count": 7,
   "id": "a6339518",
   "metadata": {},
   "outputs": [
    {
     "name": "stdout",
     "output_type": "stream",
     "text": [
      "3151005483568 3151005483536\n",
      "False\n"
     ]
    }
   ],
   "source": [
    "x += 1\n",
    "\n",
    "print(id(x),id(y))\n",
    "print(id(x) == id(y))"
   ]
  },
  {
   "cell_type": "markdown",
   "id": "8145cf00",
   "metadata": {},
   "source": [
    "exercises to practice variables:"
   ]
  },
  {
   "cell_type": "code",
   "execution_count": 8,
   "id": "06d40f79",
   "metadata": {},
   "outputs": [
    {
     "name": "stdout",
     "output_type": "stream",
     "text": [
      "Bob\n"
     ]
    }
   ],
   "source": [
    "# Create a variable named name and assign it your name as a string. Then print the variable.\n",
    "name = \"Bob\"\n",
    "print(name)"
   ]
  },
  {
   "cell_type": "code",
   "execution_count": 9,
   "id": "79203b85",
   "metadata": {
    "scrolled": true
   },
   "outputs": [
    {
     "name": "stdout",
     "output_type": "stream",
     "text": [
      "20 10\n"
     ]
    }
   ],
   "source": [
    "# Create two variables named a and b and assign them the values 10 and 20 respectively. \n",
    "# Then swap their values and print them.\n",
    "a = 10\n",
    "b = 20\n",
    "# One way to swap the values is to use a temporary variable\n",
    "temp = a\n",
    "a = b\n",
    "b = temp\n",
    "# Another way to swap the values is to use multiple assignment\n",
    "# a, b = b, a\n",
    "print(a, b)"
   ]
  },
  {
   "cell_type": "code",
   "execution_count": 10,
   "id": "63360fc2",
   "metadata": {},
   "outputs": [
    {
     "name": "stdout",
     "output_type": "stream",
     "text": [
      "78.5\n"
     ]
    }
   ],
   "source": [
    "# Create a variable named pi and assign it the value 3.14. \n",
    "# Then use the variable to calculate the area of a circle with radius 5 and print the result.\n",
    "pi = 3.14\n",
    "radius = 5\n",
    "area = pi * radius ** 2\n",
    "print(area)"
   ]
  },
  {
   "cell_type": "code",
   "execution_count": 11,
   "id": "30f28532",
   "metadata": {},
   "outputs": [
    {
     "name": "stdout",
     "output_type": "stream",
     "text": [
      "Hello, Alice!\n"
     ]
    }
   ],
   "source": [
    "# Create a variable named greeting and assign it the value \"Hello\". \n",
    "# Then use the variable to create a personalized message for someone named \"Alice\" and print the message.\n",
    "greeting = \"Hello\"\n",
    "name = \"Alice\"\n",
    "message = greeting + \", \" + name + \"!\"\n",
    "# Alternatively, you can use string formatting to create the message\n",
    "# message = f\"{greeting}, {name}!\"\n",
    "print(message)"
   ]
  },
  {
   "cell_type": "markdown",
   "id": "3238de6c",
   "metadata": {},
   "source": [
    "\n",
    "# Python Keywords: The Words You Can't Use\n"
   ]
  },
  {
   "cell_type": "code",
   "execution_count": 12,
   "id": "e8c51577",
   "metadata": {},
   "outputs": [
    {
     "ename": "SyntaxError",
     "evalue": "cannot assign to True (736176461.py, line 2)",
     "output_type": "error",
     "traceback": [
      "\u001b[1;36m  Cell \u001b[1;32mIn[12], line 2\u001b[1;36m\u001b[0m\n\u001b[1;33m    True = 42\u001b[0m\n\u001b[1;37m    ^\u001b[0m\n\u001b[1;31mSyntaxError\u001b[0m\u001b[1;31m:\u001b[0m cannot assign to True\n"
     ]
    }
   ],
   "source": [
    "# Bad idea: using True as a variable name\n",
    "True = 42"
   ]
  },
  {
   "cell_type": "code",
   "execution_count": 14,
   "id": "e61b6dcf",
   "metadata": {},
   "outputs": [
    {
     "name": "stdout",
     "output_type": "stream",
     "text": [
      "False True False\n",
      "False\n",
      "False\n"
     ]
    }
   ],
   "source": [
    "# Logical operators\n",
    "a = True\n",
    "b = False\n",
    "c = a and b # False\n",
    "d = a or b # True\n",
    "e = not a # False\n",
    "print(c,d,e)\n",
    "# Membership operators\n",
    "x = 10\n",
    "y = [1, 2, 3]\n",
    "z = x in y # False\n",
    "print(z)\n",
    "w = x is y # False\n",
    "print(w)"
   ]
  },
  {
   "cell_type": "code",
   "execution_count": 15,
   "id": "50675602",
   "metadata": {},
   "outputs": [
    {
     "name": "stdout",
     "output_type": "stream",
     "text": [
      "Enter your age: 12\n",
      "You are not allowed to vote\n"
     ]
    }
   ],
   "source": [
    "age = int(input(\"Enter your age: \"))\n",
    "if age < 18:\n",
    "    print(\"You are not allowed to vote\")\n",
    "elif age == 18:\n",
    "    print(\"You can vote for the first time\")\n",
    "else:\n",
    "    print(\"You can vote\")"
   ]
  },
  {
   "cell_type": "code",
   "execution_count": 16,
   "id": "3b64cce3",
   "metadata": {},
   "outputs": [
    {
     "name": "stdout",
     "output_type": "stream",
     "text": [
      "Enter your age: 18\n",
      "You can vote for the first time\n"
     ]
    }
   ],
   "source": [
    "age = int(input(\"Enter your age: \"))\n",
    "if age < 18:\n",
    "    print(\"You are not allowed to vote\")\n",
    "elif age == 18:\n",
    "    print(\"You can vote for the first time\")\n",
    "else:\n",
    "    print(\"You can vote\")"
   ]
  },
  {
   "cell_type": "code",
   "execution_count": 17,
   "id": "6d690131",
   "metadata": {},
   "outputs": [
    {
     "name": "stdout",
     "output_type": "stream",
     "text": [
      "Enter your age: 32\n",
      "You can vote\n"
     ]
    }
   ],
   "source": [
    "age = int(input(\"Enter your age: \"))\n",
    "if age < 18:\n",
    "    print(\"You are not allowed to vote\")\n",
    "elif age == 18:\n",
    "    print(\"You can vote for the first time\")\n",
    "else:\n",
    "    print(\"You can vote\")"
   ]
  },
  {
   "cell_type": "code",
   "execution_count": 18,
   "id": "eb219e71",
   "metadata": {},
   "outputs": [
    {
     "name": "stdout",
     "output_type": "stream",
     "text": [
      "0|1|2|3|4|5|6|7|8|9|The loop ended normally\n"
     ]
    }
   ],
   "source": [
    "# For loop with break and else\n",
    "for i in range(10):\n",
    "    print(i, end='|')    \n",
    "else:\n",
    "    print(\"The loop ended normally\") # This will not execute because of break"
   ]
  },
  {
   "cell_type": "code",
   "execution_count": 19,
   "id": "175853f8",
   "metadata": {},
   "outputs": [
    {
     "name": "stdout",
     "output_type": "stream",
     "text": [
      "0|1|2|3|4|5|"
     ]
    }
   ],
   "source": [
    "# For loop with break and else\n",
    "for i in range(10):\n",
    "    print(i,end='|')\n",
    "    if i == 5:\n",
    "        break # Exit the loop when i is 5\n",
    "else:\n",
    "    print(\"The loop ended normally\") # This will not execute because of break"
   ]
  },
  {
   "cell_type": "code",
   "execution_count": 20,
   "id": "3f7072f6",
   "metadata": {},
   "outputs": [
    {
     "name": "stdout",
     "output_type": "stream",
     "text": [
      "1\n",
      "3\n",
      "5\n",
      "7\n",
      "9\n",
      "The loop ended normally\n"
     ]
    }
   ],
   "source": [
    "# While loop with continue and else\n",
    "j = 0\n",
    "while j < 10:\n",
    "    j += 1\n",
    "    if j % 2 == 0:\n",
    "        continue # Skip even numbers\n",
    "    print(j)\n",
    "else:\n",
    "    print(\"The loop ended normally\") # This will execute because there is no break "
   ]
  },
  {
   "cell_type": "code",
   "execution_count": 21,
   "id": "09e8a2f4",
   "metadata": {},
   "outputs": [
    {
     "ename": "SyntaxError",
     "evalue": "invalid syntax (1206508069.py, line 2)",
     "output_type": "error",
     "traceback": [
      "\u001b[1;36m  Cell \u001b[1;32mIn[21], line 2\u001b[1;36m\u001b[0m\n\u001b[1;33m    for = \"For whom?\" # SyntaxError: invalid syntax\u001b[0m\n\u001b[1;37m        ^\u001b[0m\n\u001b[1;31mSyntaxError\u001b[0m\u001b[1;31m:\u001b[0m invalid syntax\n"
     ]
    }
   ],
   "source": [
    "# Bad idea: using for as a variable name\n",
    "for = \"For whom?\" # SyntaxError: invalid syntax"
   ]
  },
  {
   "cell_type": "code",
   "execution_count": 22,
   "id": "31349452",
   "metadata": {},
   "outputs": [
    {
     "data": {
      "text/plain": [
       "'Hello Micky!'"
      ]
     },
     "execution_count": 22,
     "metadata": {},
     "output_type": "execute_result"
    }
   ],
   "source": [
    "# Defining a function with def keyword \n",
    "def greet(name):\n",
    "    return f\"Hello {name}!\"\n",
    "\n",
    "greet(\"Micky\")"
   ]
  },
  {
   "cell_type": "code",
   "execution_count": 23,
   "id": "92d471cb",
   "metadata": {},
   "outputs": [
    {
     "ename": "SyntaxError",
     "evalue": "invalid syntax (3557425053.py, line 2)",
     "output_type": "error",
     "traceback": [
      "\u001b[1;36m  Cell \u001b[1;32mIn[23], line 2\u001b[1;36m\u001b[0m\n\u001b[1;33m    def = \"Define\"\u001b[0m\n\u001b[1;37m        ^\u001b[0m\n\u001b[1;31mSyntaxError\u001b[0m\u001b[1;31m:\u001b[0m invalid syntax\n"
     ]
    }
   ],
   "source": [
    "# Bad idea: using def as a variable name \n",
    "def = \"Define\" "
   ]
  },
  {
   "cell_type": "markdown",
   "id": "b1fa9ee4",
   "metadata": {},
   "source": [
    "# Data Type Concept"
   ]
  },
  {
   "cell_type": "code",
   "execution_count": 59,
   "id": "ee6909b2",
   "metadata": {},
   "outputs": [],
   "source": [
    "x = 5"
   ]
  },
  {
   "cell_type": "code",
   "execution_count": 60,
   "id": "fc30d1db",
   "metadata": {},
   "outputs": [
    {
     "name": "stdout",
     "output_type": "stream",
     "text": [
      "<class 'int'>\n"
     ]
    }
   ],
   "source": [
    "print(type(x))"
   ]
  },
  {
   "cell_type": "code",
   "execution_count": 61,
   "id": "3e513809",
   "metadata": {},
   "outputs": [],
   "source": [
    "y = \"Hello\""
   ]
  },
  {
   "cell_type": "code",
   "execution_count": 62,
   "id": "78e60421",
   "metadata": {},
   "outputs": [
    {
     "name": "stdout",
     "output_type": "stream",
     "text": [
      "<class 'str'>\n"
     ]
    }
   ],
   "source": [
    "print(type(y))"
   ]
  },
  {
   "cell_type": "code",
   "execution_count": 63,
   "id": "4abad8df",
   "metadata": {},
   "outputs": [],
   "source": [
    "x = str(5)"
   ]
  },
  {
   "cell_type": "code",
   "execution_count": 64,
   "id": "c65a731e",
   "metadata": {},
   "outputs": [
    {
     "name": "stdout",
     "output_type": "stream",
     "text": [
      "<class 'str'>\n"
     ]
    }
   ],
   "source": [
    "print(type(x))"
   ]
  },
  {
   "cell_type": "code",
   "execution_count": 65,
   "id": "ef155f2c",
   "metadata": {},
   "outputs": [],
   "source": [
    "y = int(10)"
   ]
  },
  {
   "cell_type": "code",
   "execution_count": 66,
   "id": "64ef62c9",
   "metadata": {},
   "outputs": [
    {
     "name": "stdout",
     "output_type": "stream",
     "text": [
      "<class 'int'>\n"
     ]
    }
   ],
   "source": [
    "print(type(y))"
   ]
  },
  {
   "cell_type": "code",
   "execution_count": 67,
   "id": "b8200376",
   "metadata": {},
   "outputs": [
    {
     "name": "stdout",
     "output_type": "stream",
     "text": [
      "<class 'str'>\n",
      "3.14\n",
      "<class 'float'>\n",
      "3.14\n",
      "<class 'int'>\n",
      "3\n"
     ]
    }
   ],
   "source": [
    "x = \"3.14\"# X is a str object\n",
    "y = float(x) # y is a float object with the value 3.14\n",
    "z = int(y) # z is an int object with the value 3\n",
    "print(type(x))\n",
    "print(x)\n",
    "print(type(y))\n",
    "print(y)\n",
    "print(type(z))\n",
    "print(z)"
   ]
  },
  {
   "cell_type": "code",
   "execution_count": 68,
   "id": "16f87b59",
   "metadata": {},
   "outputs": [
    {
     "ename": "ValueError",
     "evalue": "could not convert string to float: 'happy'",
     "output_type": "error",
     "traceback": [
      "\u001b[1;31m---------------------------------------------------------------------------\u001b[0m",
      "\u001b[1;31mValueError\u001b[0m                                Traceback (most recent call last)",
      "Cell \u001b[1;32mIn[68], line 2\u001b[0m\n\u001b[0;32m      1\u001b[0m x \u001b[38;5;241m=\u001b[39m\u001b[38;5;124m\"\u001b[39m\u001b[38;5;124mhappy\u001b[39m\u001b[38;5;124m\"\u001b[39m \u001b[38;5;66;03m# x is a str object\u001b[39;00m\n\u001b[1;32m----> 2\u001b[0m y \u001b[38;5;241m=\u001b[39m \u001b[38;5;28;43mfloat\u001b[39;49m\u001b[43m(\u001b[49m\u001b[43mx\u001b[49m\u001b[43m)\u001b[49m\n",
      "\u001b[1;31mValueError\u001b[0m: could not convert string to float: 'happy'"
     ]
    }
   ],
   "source": [
    "x =\"happy\" # x is a str object\n",
    "y = float(x) # y is a float object"
   ]
  },
  {
   "cell_type": "code",
   "execution_count": 116,
   "id": "650119bc",
   "metadata": {},
   "outputs": [
    {
     "name": "stdout",
     "output_type": "stream",
     "text": [
      "[1, 2, 3]\n",
      "[1, 2, 3, 4]\n"
     ]
    }
   ],
   "source": [
    "# Create a List of numbers\n",
    "numbers = [1, 2, 3]\n",
    "# Print the list\n",
    "print(numbers) # [1， 2， 3]\n",
    "# Append a new element to the list\n",
    "numbers.append(4)\n",
    "# Print the list again\n",
    "print(numbers) # [1， 2， 3，4]"
   ]
  },
  {
   "cell_type": "code",
   "execution_count": 117,
   "id": "1c7be72b",
   "metadata": {},
   "outputs": [
    {
     "name": "stdout",
     "output_type": "stream",
     "text": [
      "Alice\n"
     ]
    },
    {
     "ename": "TypeError",
     "evalue": "'str' object does not support item assignment",
     "output_type": "error",
     "traceback": [
      "\u001b[1;31m---------------------------------------------------------------------------\u001b[0m",
      "\u001b[1;31mTypeError\u001b[0m                                 Traceback (most recent call last)",
      "Cell \u001b[1;32mIn[117], line 6\u001b[0m\n\u001b[0;32m      4\u001b[0m \u001b[38;5;28mprint\u001b[39m(name) \u001b[38;5;66;03m# ALice\u001b[39;00m\n\u001b[0;32m      5\u001b[0m \u001b[38;5;66;03m# Try to change the first character to \"B'\u001b[39;00m\n\u001b[1;32m----> 6\u001b[0m name[\u001b[38;5;241m0\u001b[39m] \u001b[38;5;241m=\u001b[39m\u001b[38;5;124m\"\u001b[39m\u001b[38;5;124mB\u001b[39m\u001b[38;5;124m\"\u001b[39m\n\u001b[0;32m      7\u001b[0m \u001b[38;5;66;03m# Print the string again\u001b[39;00m\n\u001b[0;32m      8\u001b[0m \u001b[38;5;28mprint\u001b[39m(name)\n",
      "\u001b[1;31mTypeError\u001b[0m: 'str' object does not support item assignment"
     ]
    }
   ],
   "source": [
    "# Create a string of characters\n",
    "name =\"Alice\"\n",
    "# Print the string\n",
    "print(name) # ALice\n",
    "# Try to change the first character to \"B'\n",
    "name[0] =\"B\"\n",
    "# Print the string again\n",
    "print(name) # TypeError: 'str' object does not support item assignment"
   ]
  },
  {
   "cell_type": "markdown",
   "id": "4efafe9d",
   "metadata": {},
   "source": [
    "# Basic data types\n"
   ]
  },
  {
   "cell_type": "markdown",
   "id": "aea3ac3d",
   "metadata": {},
   "source": [
    "## Numeric Type\n",
    "Numeric type objects represent number values. They are divided into three subgroups:\n",
    "\n",
    "+ Integers\n",
    "+ Floating Point Numbers\n",
    "+ Complex Numbers\n",
    "\n",
    "### Integers\n",
    "Integer values belong to the int class. Specifically, integers represent positive or negative whole numbers without a decimal."
   ]
  },
  {
   "cell_type": "code",
   "execution_count": 118,
   "id": "59a239fc",
   "metadata": {},
   "outputs": [
    {
     "name": "stdout",
     "output_type": "stream",
     "text": [
      "<class 'int'>\n"
     ]
    }
   ],
   "source": [
    "x = 3\n",
    "print(type(x)) "
   ]
  },
  {
   "cell_type": "code",
   "execution_count": 119,
   "id": "79b1f00f",
   "metadata": {},
   "outputs": [
    {
     "name": "stdout",
     "output_type": "stream",
     "text": [
      "3\n"
     ]
    }
   ],
   "source": [
    "print(x)  "
   ]
  },
  {
   "cell_type": "code",
   "execution_count": 120,
   "id": "3b854061",
   "metadata": {},
   "outputs": [
    {
     "name": "stdout",
     "output_type": "stream",
     "text": [
      "4\n"
     ]
    }
   ],
   "source": [
    "print(x + 1) "
   ]
  },
  {
   "cell_type": "code",
   "execution_count": 121,
   "id": "543f9179",
   "metadata": {},
   "outputs": [
    {
     "name": "stdout",
     "output_type": "stream",
     "text": [
      "2\n"
     ]
    }
   ],
   "source": [
    "print(x - 1)"
   ]
  },
  {
   "cell_type": "code",
   "execution_count": 122,
   "id": "07843a4c",
   "metadata": {
    "scrolled": true
   },
   "outputs": [
    {
     "name": "stdout",
     "output_type": "stream",
     "text": [
      "6\n",
      "9\n"
     ]
    }
   ],
   "source": [
    "print(x * 2) \n",
    "print(x ** 2)"
   ]
  },
  {
   "cell_type": "code",
   "execution_count": 123,
   "id": "231601d5",
   "metadata": {},
   "outputs": [
    {
     "name": "stdout",
     "output_type": "stream",
     "text": [
      "4\n"
     ]
    }
   ],
   "source": [
    "x += 1\n",
    "print(x) "
   ]
  },
  {
   "cell_type": "code",
   "execution_count": 124,
   "id": "b9105510",
   "metadata": {},
   "outputs": [
    {
     "name": "stdout",
     "output_type": "stream",
     "text": [
      "8\n"
     ]
    }
   ],
   "source": [
    "x *= 2\n",
    "print(x) "
   ]
  },
  {
   "cell_type": "code",
   "execution_count": 125,
   "id": "426ff009",
   "metadata": {},
   "outputs": [
    {
     "name": "stdout",
     "output_type": "stream",
     "text": [
      "15 5 50 2.0 0 100000 2\n"
     ]
    }
   ],
   "source": [
    "# Performing arithmetic operations with integers\n",
    "addition = 10 + 5\n",
    "subtraction = 10 - 5 \n",
    "multiplication = 10 * 5 \n",
    "division = 10 / 5       #(Note: this returns a float)\n",
    "modulo = 10 % 5         #(remainder of division)\n",
    "exponentiation = 10 ** 5 #(10 to the power of 5)\n",
    "floor_division = 10 // 5 # (integer part of division)\n",
    "print(addition, subtraction, multiplication, division, modulo, exponentiation, floor_division)"
   ]
  },
  {
   "cell_type": "markdown",
   "id": "68e87839",
   "metadata": {},
   "source": [
    "### Floating-Point Numbers\n",
    "Floating-point numbers in Python are numbers defined with a decimal point. The class type is float."
   ]
  },
  {
   "cell_type": "code",
   "execution_count": 126,
   "id": "59919ff9",
   "metadata": {},
   "outputs": [
    {
     "name": "stdout",
     "output_type": "stream",
     "text": [
      "<class 'float'>\n",
      "2.5 3.5 5.0 6.25\n"
     ]
    }
   ],
   "source": [
    "y = 2.5\n",
    "print(type(y)) \n",
    "print(y, y + 1, y * 2, y ** 2) "
   ]
  },
  {
   "cell_type": "code",
   "execution_count": 127,
   "id": "c4d1a47e",
   "metadata": {},
   "outputs": [
    {
     "data": {
      "text/plain": [
       "3.14"
      ]
     },
     "execution_count": 127,
     "metadata": {},
     "output_type": "execute_result"
    }
   ],
   "source": [
    "x = 3.1415926\n",
    "round(x,2)"
   ]
  },
  {
   "cell_type": "code",
   "execution_count": 128,
   "id": "23b724ac",
   "metadata": {},
   "outputs": [
    {
     "name": "stdout",
     "output_type": "stream",
     "text": [
      "3.14\n",
      "300000000.0\n",
      "300000003.14 -299999996.86 942000000.0 1.0466666666666668e-08 3.14 0.0\n"
     ]
    }
   ],
   "source": [
    "# Creating a float with a decimal point \n",
    "pi = 3.14 \n",
    "print(pi) #3.14 \n",
    "\n",
    "# Creating a float with an exponent notation \n",
    "speed_of_light = 3e8 \n",
    "print(speed_of_light) #300000000.0 \n",
    "\n",
    "# Performing arithmetic operations with floats \n",
    "addition = pi + speed_of_light #300000003.14 \n",
    "subtraction = pi - speed_of_light #-299999996.86 \n",
    "multiplication = pi * speed_of_light #942477796076937.6 \n",
    "division = pi / speed_of_light #1.0466666666666666e-08 \n",
    "modulo = pi % speed_of_light #3.14 (remainder of division) \n",
    "floor_division = pi // speed_of_light #0.0 (integer part of division) \n",
    "\n",
    "print(addition, subtraction, multiplication, division, modulo, floor_division)"
   ]
  },
  {
   "cell_type": "markdown",
   "id": "caa8e909",
   "metadata": {},
   "source": [
    "## Booleans\n",
    "With Boolean, there two possible values True or False which are meant to represent the real values of logic.\n",
    "Both T and F must be capitalized for correct identification by the python interpreter.\n"
   ]
  },
  {
   "cell_type": "code",
   "execution_count": 129,
   "id": "5ef74e5a",
   "metadata": {},
   "outputs": [
    {
     "name": "stdout",
     "output_type": "stream",
     "text": [
      "<class 'bool'>\n"
     ]
    }
   ],
   "source": [
    "t = True\n",
    "f = False\n",
    "print(type(t)) # Prints \"<class 'bool'>\""
   ]
  },
  {
   "cell_type": "code",
   "execution_count": 130,
   "id": "95771baf",
   "metadata": {},
   "outputs": [
    {
     "name": "stdout",
     "output_type": "stream",
     "text": [
      "False\n"
     ]
    }
   ],
   "source": [
    "print(t and f) # Logical AND; prints \"False\""
   ]
  },
  {
   "cell_type": "code",
   "execution_count": 131,
   "id": "826fe6af",
   "metadata": {},
   "outputs": [
    {
     "name": "stdout",
     "output_type": "stream",
     "text": [
      "True\n"
     ]
    }
   ],
   "source": [
    "print(t or f) # Logical OR; prints \"True\""
   ]
  },
  {
   "cell_type": "code",
   "execution_count": 132,
   "id": "7c6230bb",
   "metadata": {},
   "outputs": [
    {
     "name": "stdout",
     "output_type": "stream",
     "text": [
      "False\n"
     ]
    }
   ],
   "source": [
    "print(not t) # Logical NOT; prints \"False\""
   ]
  },
  {
   "cell_type": "code",
   "execution_count": 133,
   "id": "934acec5",
   "metadata": {},
   "outputs": [
    {
     "name": "stdout",
     "output_type": "stream",
     "text": [
      "True\n"
     ]
    }
   ],
   "source": [
    "print(t != f) # Logical XOR; prints \"True\""
   ]
  },
  {
   "cell_type": "markdown",
   "id": "f04a0aeb",
   "metadata": {},
   "source": [
    "## Strings\n",
    "Strings are a sequence of bytes representing Unicode characters. The string type in Python is called str."
   ]
  },
  {
   "cell_type": "code",
   "execution_count": 134,
   "id": "e835d53a",
   "metadata": {},
   "outputs": [],
   "source": [
    "hello = 'hello' # String literals can use single quotes\n",
    "world = \"world\" # or double quotes; it does not matter."
   ]
  },
  {
   "cell_type": "code",
   "execution_count": 135,
   "id": "4eb100ef",
   "metadata": {},
   "outputs": [
    {
     "name": "stdout",
     "output_type": "stream",
     "text": [
      "hello\n",
      "5\n"
     ]
    }
   ],
   "source": [
    "print(hello) # Prints \"hello\"\n",
    "print(len(hello)) # String length; prints \"5\""
   ]
  },
  {
   "cell_type": "code",
   "execution_count": 136,
   "id": "cd9d68bf",
   "metadata": {},
   "outputs": [
    {
     "name": "stdout",
     "output_type": "stream",
     "text": [
      "hello world\n"
     ]
    }
   ],
   "source": [
    "hw = hello + ' ' + world # String concatenation\n",
    "print(hw) # prints \"hello world\""
   ]
  },
  {
   "cell_type": "code",
   "execution_count": 137,
   "id": "f86451f2",
   "metadata": {},
   "outputs": [
    {
     "name": "stdout",
     "output_type": "stream",
     "text": [
      "hello world 12!\n"
     ]
    }
   ],
   "source": [
    "hw12 = f'{hello} {world} {12}!'\n",
    "print(hw12) # prints \"hello world 12\""
   ]
  },
  {
   "cell_type": "code",
   "execution_count": 138,
   "id": "ab328b5e",
   "metadata": {},
   "outputs": [
    {
     "name": "stdout",
     "output_type": "stream",
     "text": [
      "hello world 12\n"
     ]
    }
   ],
   "source": [
    "hw12 = '%s %s %d' % (hello, world, 12) # sprintf style string formatting\n",
    "print(hw12) # prints \"hello world 12\""
   ]
  },
  {
   "cell_type": "markdown",
   "id": "2ca2020b",
   "metadata": {},
   "source": [
    "String objects have a bunch of useful methods; for example:"
   ]
  },
  {
   "cell_type": "code",
   "execution_count": 139,
   "id": "ec6e30e9",
   "metadata": {},
   "outputs": [
    {
     "name": "stdout",
     "output_type": "stream",
     "text": [
      "Hello\n"
     ]
    }
   ],
   "source": [
    "s = \"hello\"\n",
    "print(s.capitalize()) # Capitalize a string; prints \"Hello\""
   ]
  },
  {
   "cell_type": "code",
   "execution_count": 140,
   "id": "df389821",
   "metadata": {},
   "outputs": [
    {
     "name": "stdout",
     "output_type": "stream",
     "text": [
      "HELLO\n"
     ]
    }
   ],
   "source": [
    "print(s.upper()) # Convert a string to uppercase; prints \"HELLO\""
   ]
  },
  {
   "cell_type": "code",
   "execution_count": 141,
   "id": "36a8debb",
   "metadata": {},
   "outputs": [
    {
     "name": "stdout",
     "output_type": "stream",
     "text": [
      "  hello\n"
     ]
    }
   ],
   "source": [
    "print(s.rjust(7)) # Right-justify a string, padding with spaces; "
   ]
  },
  {
   "cell_type": "code",
   "execution_count": 142,
   "id": "db9b1761",
   "metadata": {},
   "outputs": [
    {
     "name": "stdout",
     "output_type": "stream",
     "text": [
      " hello \n"
     ]
    }
   ],
   "source": [
    "print(s.center(7)) # Center a string, padding with spaces; "
   ]
  },
  {
   "cell_type": "code",
   "execution_count": 143,
   "id": "cb8953b4",
   "metadata": {},
   "outputs": [
    {
     "name": "stdout",
     "output_type": "stream",
     "text": [
      "he(ell)(ell)o\n"
     ]
    }
   ],
   "source": [
    "print(s.replace('l', '(ell)')) # Replace all instances of one substring "
   ]
  },
  {
   "cell_type": "code",
   "execution_count": 144,
   "id": "cb16e0aa",
   "metadata": {},
   "outputs": [
    {
     "name": "stdout",
     "output_type": "stream",
     "text": [
      "world\n"
     ]
    }
   ],
   "source": [
    "print(' world '.strip()) # Strip leading and trailing whitespace; prints"
   ]
  },
  {
   "cell_type": "markdown",
   "id": "e1db76a6",
   "metadata": {},
   "source": [
    "###### Access elements of a string\n",
    "\n",
    "To access parts of a string, use string slicing. Access the first element at index 0. Counting backward starting from -1 accesses the end of a sequence."
   ]
  },
  {
   "cell_type": "code",
   "execution_count": 145,
   "id": "5c4dfdf4",
   "metadata": {},
   "outputs": [
    {
     "name": "stdout",
     "output_type": "stream",
     "text": [
      "p o p\n"
     ]
    }
   ],
   "source": [
    "s = \"phoenixNap\"\n",
    "print(s[0], s[2], s[-1])"
   ]
  },
  {
   "cell_type": "code",
   "execution_count": 146,
   "id": "bf30f9e0",
   "metadata": {},
   "outputs": [
    {
     "name": "stdout",
     "output_type": "stream",
     "text": [
      "phoenix\n",
      "Nap\n"
     ]
    }
   ],
   "source": [
    "print(s[0:7])\n",
    "print(s[-3:])"
   ]
  },
  {
   "cell_type": "code",
   "execution_count": 147,
   "id": "1c1b5829",
   "metadata": {},
   "outputs": [
    {
     "name": "stdout",
     "output_type": "stream",
     "text": [
      "A I H\n",
      "CDEFG\n"
     ]
    }
   ],
   "source": [
    "s = 'ABCDEFGHI'\n",
    "print(s[0],s[-1],s[7])\n",
    "print(s[2:7])"
   ]
  },
  {
   "cell_type": "code",
   "execution_count": 148,
   "id": "86b66eb3",
   "metadata": {},
   "outputs": [
    {
     "name": "stdout",
     "output_type": "stream",
     "text": [
      "ABCDEFG\n",
      "DEFGHI\n"
     ]
    }
   ],
   "source": [
    "s = 'ABCDEFGHI'\n",
    "print(s[:7])\n",
    "print(s[3:])"
   ]
  },
  {
   "cell_type": "code",
   "execution_count": 149,
   "id": "a3ef7b50",
   "metadata": {},
   "outputs": [
    {
     "name": "stdout",
     "output_type": "stream",
     "text": [
      "IHGFEDCBA\n",
      "IHGFEDCBA\n"
     ]
    }
   ],
   "source": [
    "s = 'ABCDEFGHI'\n",
    "print(s[-1::-1])\n",
    "print(s[::-1])"
   ]
  },
  {
   "cell_type": "markdown",
   "id": "27c8658d",
   "metadata": {},
   "source": [
    "Since strings are arrays, you can loop through all the characters by using a for loop:"
   ]
  },
  {
   "cell_type": "code",
   "execution_count": 150,
   "id": "e9f09a29",
   "metadata": {},
   "outputs": [
    {
     "name": "stdout",
     "output_type": "stream",
     "text": [
      "A|B|C|D|E|F|G|H|I|"
     ]
    }
   ],
   "source": [
    "for letter in s:\n",
    "     print(letter,end='|')"
   ]
  },
  {
   "cell_type": "markdown",
   "id": "14fe23e4",
   "metadata": {},
   "source": [
    "Looping through a string\n",
    "The code prints all letters of a string one by one."
   ]
  },
  {
   "cell_type": "markdown",
   "id": "824a857a",
   "metadata": {},
   "source": [
    "###### Suppressing Special Character Meaning"
   ]
  },
  {
   "cell_type": "markdown",
   "id": "2c33aded",
   "metadata": {},
   "source": [
    "Specifying a backslash in front of the quote character in a string “escapes” it and causes Python to suppress its usual special meaning. It is then interpreted simply as a literal single quote character:"
   ]
  },
  {
   "cell_type": "code",
   "execution_count": 151,
   "id": "040c248a",
   "metadata": {},
   "outputs": [
    {
     "name": "stdout",
     "output_type": "stream",
     "text": [
      "This string contains a single quote (') character.\n"
     ]
    }
   ],
   "source": [
    "print('This string contains a single quote (\\') character.')"
   ]
  },
  {
   "cell_type": "markdown",
   "id": "810e466b",
   "metadata": {},
   "source": [
    "The same works in a string delimited by double quotes as well:"
   ]
  },
  {
   "cell_type": "code",
   "execution_count": 152,
   "id": "03f71b02",
   "metadata": {},
   "outputs": [
    {
     "name": "stdout",
     "output_type": "stream",
     "text": [
      "This string contains a double quote (\") character.\n"
     ]
    }
   ],
   "source": [
    "print(\"This string contains a double quote (\\\") character.\")"
   ]
  },
  {
   "cell_type": "code",
   "execution_count": 153,
   "id": "f72a9fd1",
   "metadata": {},
   "outputs": [
    {
     "ename": "SyntaxError",
     "evalue": "unterminated string literal (detected at line 1) (2247396347.py, line 1)",
     "output_type": "error",
     "traceback": [
      "\u001b[1;36m  Cell \u001b[1;32mIn[153], line 1\u001b[1;36m\u001b[0m\n\u001b[1;33m    s = 'what's your name?'\u001b[0m\n\u001b[1;37m                          ^\u001b[0m\n\u001b[1;31mSyntaxError\u001b[0m\u001b[1;31m:\u001b[0m unterminated string literal (detected at line 1)\n"
     ]
    }
   ],
   "source": [
    "s = 'what's your name?'\n",
    "print(s)"
   ]
  },
  {
   "cell_type": "code",
   "execution_count": 154,
   "id": "9b411b64",
   "metadata": {},
   "outputs": [
    {
     "name": "stdout",
     "output_type": "stream",
     "text": [
      "what's your name?\n"
     ]
    }
   ],
   "source": [
    "s = 'what\\'s your name?'\n",
    "print(s)"
   ]
  },
  {
   "cell_type": "markdown",
   "id": "8029f730",
   "metadata": {},
   "source": [
    "This string contains a double quote (\") character.\n",
    "\n",
    "The following is a table of escape sequences which cause Python to suppress the usual special interpretation of a character in a string:"
   ]
  },
  {
   "cell_type": "markdown",
   "id": "7a1ff5e1",
   "metadata": {},
   "source": [
    "<table class=\"table table-hover\">\n",
    "<thead>\n",
    "<tr>\n",
    "<th>Escape<br>Sequence</th>\n",
    "<th>Usual Interpretation of<br>Character(s) After Backslash</th>\n",
    "<th>“Escaped” Interpretation</th>\n",
    "</tr>\n",
    "</thead>\n",
    "<tbody>\n",
    "<tr>\n",
    "<td><code>\\'</code></td>\n",
    "<td>Terminates string with single quote opening delimiter</td>\n",
    "<td>Literal single quote (<code>'</code>) character</td>\n",
    "</tr>\n",
    "<tr>\n",
    "<td><code>\\\"</code></td>\n",
    "<td>Terminates string with double quote opening delimiter</td>\n",
    "<td>Literal double quote (<code>\"</code>) character</td>\n",
    "</tr>\n",
    "<tr>\n",
    "<td><code>\\&lt;newline&gt;</code></td>\n",
    "<td>Terminates input line</td>\n",
    "<td><a href=\"https://stackoverflow.com/questions/48693600/what-does-the-newline-escape-sequence-mean-in-python\">Newline is ignored</a></td>\n",
    "</tr>\n",
    "<tr>\n",
    "<td><code>\\\\</code></td>\n",
    "<td>Introduces escape sequence</td>\n",
    "<td>Literal backslash (<code>\\</code>) character</td>\n",
    "</tr>\n",
    "</tbody>\n",
    "</table>"
   ]
  },
  {
   "cell_type": "markdown",
   "id": "d696db14",
   "metadata": {},
   "source": [
    "To break up a string over more than one line, include a backslash before each newline, and the newlines will be ignored:"
   ]
  },
  {
   "cell_type": "code",
   "execution_count": 155,
   "id": "05131f0e",
   "metadata": {},
   "outputs": [
    {
     "name": "stdout",
     "output_type": "stream",
     "text": [
      "abc\n"
     ]
    }
   ],
   "source": [
    "print('a\\\n",
    "b\\\n",
    "c')"
   ]
  },
  {
   "cell_type": "code",
   "execution_count": 156,
   "id": "7633068d",
   "metadata": {},
   "outputs": [
    {
     "name": "stdout",
     "output_type": "stream",
     "text": [
      "C:\\Users\\Pat\\Desktop\n"
     ]
    }
   ],
   "source": [
    "print(\"C:\\\\Users\\\\Pat\\\\Desktop\")"
   ]
  },
  {
   "cell_type": "markdown",
   "id": "f993ab3b",
   "metadata": {},
   "source": [
    "To include a literal backslash in a string, escape it with a backslash:"
   ]
  },
  {
   "cell_type": "code",
   "execution_count": 157,
   "id": "46566cba",
   "metadata": {},
   "outputs": [
    {
     "name": "stdout",
     "output_type": "stream",
     "text": [
      "foo\\bar\n"
     ]
    }
   ],
   "source": [
    "print('foo\\\\bar')"
   ]
  },
  {
   "cell_type": "markdown",
   "id": "6bcc948f",
   "metadata": {},
   "source": [
    "###### Applying Special Meaning to Characters\n"
   ]
  },
  {
   "cell_type": "code",
   "execution_count": 158,
   "id": "7a080bd0",
   "metadata": {},
   "outputs": [
    {
     "name": "stdout",
     "output_type": "stream",
     "text": [
      "foo\tbar\n"
     ]
    }
   ],
   "source": [
    "print('foo\\tbar')"
   ]
  },
  {
   "cell_type": "markdown",
   "id": "fa753d57",
   "metadata": {},
   "source": [
    "The escape sequence `\\t` causes the t character to lose its usual meaning, that of a literal t. Instead, the combination is interpreted as a tab character.\n",
    "\n",
    "Here is a list of escape sequences that cause Python to apply special meaning instead of interpreting literally:"
   ]
  },
  {
   "cell_type": "markdown",
   "id": "579a972c",
   "metadata": {},
   "source": [
    "<table class=\"table table-hover\">\n",
    "<thead>\n",
    "<tr>\n",
    "<th>Escape Sequence</th>\n",
    "<th>“Escaped” Interpretation</th>\n",
    "</tr>\n",
    "</thead>\n",
    "<tbody>\n",
    "<tr>\n",
    "<td><code>\\a</code></td>\n",
    "<td>ASCII Bell (<code>BEL</code>) character</td>\n",
    "</tr>\n",
    "<tr>\n",
    "<td><code>\\b</code></td>\n",
    "<td>ASCII Backspace (<code>BS</code>) character</td>\n",
    "</tr>\n",
    "<tr>\n",
    "<td><code>\\f</code></td>\n",
    "<td>ASCII Formfeed (<code>FF</code>) character</td>\n",
    "</tr>\n",
    "<tr>\n",
    "<td><code>\\n</code></td>\n",
    "<td>ASCII Linefeed (<code>LF</code>) character</td>\n",
    "</tr>\n",
    "<tr>\n",
    "<td><code>\\N{&lt;name&gt;}</code></td>\n",
    "<td>Character from Unicode database with given <code>&lt;name&gt;</code></td>\n",
    "</tr>\n",
    "<tr>\n",
    "<td><code>\\r</code></td>\n",
    "<td>ASCII Carriage Return (<code>CR</code>) character</td>\n",
    "</tr>\n",
    "<tr>\n",
    "<td><code>\\t</code></td>\n",
    "<td>ASCII Horizontal Tab (<code>TAB</code>) character</td>\n",
    "</tr>\n",
    "<tr>\n",
    "<td><code>\\uxxxx</code></td>\n",
    "<td>Unicode character with 16-bit hex value <code>xxxx</code></td>\n",
    "</tr>\n",
    "<tr>\n",
    "<td><code>\\Uxxxxxxxx</code></td>\n",
    "<td>Unicode character with 32-bit hex value <code>xxxxxxxx</code></td>\n",
    "</tr>\n",
    "<tr>\n",
    "<td><code>\\v</code></td>\n",
    "<td>ASCII Vertical Tab (<code>VT</code>) character</td>\n",
    "</tr>\n",
    "<tr>\n",
    "<td><code>\\ooo</code></td>\n",
    "<td>Character with octal value <code>ooo</code></td>\n",
    "</tr>\n",
    "<tr>\n",
    "<td><code>\\xhh</code></td>\n",
    "<td>Character with hex value <code>hh</code></td>\n",
    "</tr>\n",
    "</tbody>\n",
    "</table>"
   ]
  },
  {
   "cell_type": "code",
   "execution_count": 159,
   "id": "94f243c6",
   "metadata": {},
   "outputs": [
    {
     "name": "stdout",
     "output_type": "stream",
     "text": [
      "a\u0007\f",
      "123\b\n"
     ]
    }
   ],
   "source": [
    "print(\"a\\a\\f123\\b\")"
   ]
  },
  {
   "cell_type": "code",
   "execution_count": 160,
   "id": "95ae9b7c",
   "metadata": {},
   "outputs": [
    {
     "name": "stdout",
     "output_type": "stream",
     "text": [
      "a\tb\n"
     ]
    }
   ],
   "source": [
    "print(\"a\\tb\")"
   ]
  },
  {
   "cell_type": "code",
   "execution_count": 161,
   "id": "166de4e2",
   "metadata": {},
   "outputs": [
    {
     "name": "stdout",
     "output_type": "stream",
     "text": [
      "aaa\n"
     ]
    }
   ],
   "source": [
    "print(\"a\\141\\x61\")"
   ]
  },
  {
   "cell_type": "code",
   "execution_count": 162,
   "id": "81e357e2",
   "metadata": {},
   "outputs": [
    {
     "name": "stdout",
     "output_type": "stream",
     "text": [
      "a\n",
      "b\n"
     ]
    }
   ],
   "source": [
    "print(\"a\\nb\")"
   ]
  },
  {
   "cell_type": "code",
   "execution_count": 163,
   "id": "366f78ca",
   "metadata": {},
   "outputs": [
    {
     "name": "stdout",
     "output_type": "stream",
     "text": [
      "→ →\n"
     ]
    }
   ],
   "source": [
    "print('\\u2192 \\N{rightwards arrow}')"
   ]
  },
  {
   "cell_type": "markdown",
   "id": "d17feace",
   "metadata": {},
   "source": [
    "###### Raw Strings\n",
    "A raw string literal is preceded by r or R, which specifies that escape sequences in the associated string are not translated. The backslash character is left in the string:"
   ]
  },
  {
   "cell_type": "code",
   "execution_count": 164,
   "id": "6fc633a3",
   "metadata": {},
   "outputs": [
    {
     "name": "stdout",
     "output_type": "stream",
     "text": [
      "foo\n",
      "bar\n"
     ]
    }
   ],
   "source": [
    "print('foo\\nbar')"
   ]
  },
  {
   "cell_type": "code",
   "execution_count": 165,
   "id": "60921f22",
   "metadata": {},
   "outputs": [
    {
     "name": "stdout",
     "output_type": "stream",
     "text": [
      "foo\\nbar\n"
     ]
    }
   ],
   "source": [
    "print(r'foo\\nbar')"
   ]
  },
  {
   "cell_type": "code",
   "execution_count": 166,
   "id": "8aecacf5",
   "metadata": {},
   "outputs": [
    {
     "name": "stdout",
     "output_type": "stream",
     "text": [
      "foo\\bar\n"
     ]
    }
   ],
   "source": [
    "print('foo\\\\bar')"
   ]
  },
  {
   "cell_type": "code",
   "execution_count": 167,
   "id": "865a5ead",
   "metadata": {},
   "outputs": [
    {
     "name": "stdout",
     "output_type": "stream",
     "text": [
      "foo\\\\bar\n"
     ]
    }
   ],
   "source": [
    "print(R'foo\\\\bar')"
   ]
  },
  {
   "cell_type": "code",
   "execution_count": 168,
   "id": "6e88b950",
   "metadata": {},
   "outputs": [
    {
     "name": "stdout",
     "output_type": "stream",
     "text": [
      "Dear Backslashes \\, You don't need to be escaped in raw strings.\n"
     ]
    }
   ],
   "source": [
    "print(r\"Dear Backslashes \\, You don't need to be escaped in raw strings.\")"
   ]
  },
  {
   "cell_type": "markdown",
   "id": "46cdf02e",
   "metadata": {},
   "source": [
    "###### Triple-Quoted Strings"
   ]
  },
  {
   "cell_type": "code",
   "execution_count": 169,
   "id": "2fca1499",
   "metadata": {},
   "outputs": [
    {
     "data": {
      "text/plain": [
       "'This is a multiline string\\nwith \\'single\\', \"double\" and \"\"\"triple-double\"\"\" quotes\\ndelimited with triple single quotes'"
      ]
     },
     "execution_count": 169,
     "metadata": {},
     "output_type": "execute_result"
    }
   ],
   "source": [
    "strx = '''This is a multiline string\n",
    "with 'single', \"double\" and \"\"\"triple-double\"\"\" quotes\n",
    "delimited with triple single quotes'''\n",
    "\n",
    "strx"
   ]
  },
  {
   "cell_type": "code",
   "execution_count": 170,
   "id": "d1d0131d",
   "metadata": {},
   "outputs": [
    {
     "name": "stdout",
     "output_type": "stream",
     "text": [
      "'This is a multiline string\n",
      "with 'single', \"double\" and ```triple single``` quotes\n",
      "delimited with triple double quotes'\n"
     ]
    }
   ],
   "source": [
    "print(\"\"\"'This is a multiline string\n",
    "with 'single', \"double\" and ```triple single``` quotes\n",
    "delimited with triple double quotes'\"\"\")"
   ]
  },
  {
   "cell_type": "markdown",
   "id": "594018e6",
   "metadata": {},
   "source": [
    "###### F-string"
   ]
  },
  {
   "cell_type": "code",
   "execution_count": 171,
   "id": "84ede949",
   "metadata": {},
   "outputs": [
    {
     "data": {
      "text/plain": [
       "'He said his name is Fred, he is 16 years old.'"
      ]
     },
     "execution_count": 171,
     "metadata": {},
     "output_type": "execute_result"
    }
   ],
   "source": [
    "name = \"Fred\"\n",
    "age = 16\n",
    "\n",
    "f\"He said his name is {name}, he is {age} years old.\""
   ]
  },
  {
   "cell_type": "code",
   "execution_count": 172,
   "id": "05a355d9",
   "metadata": {},
   "outputs": [
    {
     "data": {
      "text/plain": [
       "\"He said his name is 'Fred'.\""
      ]
     },
     "execution_count": 172,
     "metadata": {},
     "output_type": "execute_result"
    }
   ],
   "source": [
    "name = \"Fred\"\n",
    "f\"He said his name is {name!r}.\""
   ]
  },
  {
   "cell_type": "code",
   "execution_count": 173,
   "id": "f62c3297",
   "metadata": {},
   "outputs": [
    {
     "data": {
      "text/plain": [
       "\"He said his name is 'Fred'.\""
      ]
     },
     "execution_count": 173,
     "metadata": {},
     "output_type": "execute_result"
    }
   ],
   "source": [
    "f\"He said his name is {repr(name)}.\"  # repr() is equivalent to !r"
   ]
  },
  {
   "cell_type": "code",
   "execution_count": 174,
   "id": "35480a1e",
   "metadata": {},
   "outputs": [
    {
     "data": {
      "text/plain": [
       "'result:      12.35'"
      ]
     },
     "execution_count": 174,
     "metadata": {},
     "output_type": "execute_result"
    }
   ],
   "source": [
    "width = 10\n",
    "precision = 4\n",
    "value = 12.34567\n",
    "f\"result: {value:{width}.{precision}}\"  # nested fields"
   ]
  },
  {
   "cell_type": "code",
   "execution_count": 175,
   "id": "dc5cd3c2",
   "metadata": {},
   "outputs": [
    {
     "data": {
      "text/plain": [
       "'result:      102.3'"
      ]
     },
     "execution_count": 175,
     "metadata": {},
     "output_type": "execute_result"
    }
   ],
   "source": [
    "width = 10\n",
    "precision = 4\n",
    "value = 102.34567\n",
    "f\"result: {value:{width}.{precision}}\"  # nested fields"
   ]
  },
  {
   "cell_type": "code",
   "execution_count": 176,
   "id": "eef6f92f",
   "metadata": {},
   "outputs": [
    {
     "data": {
      "text/plain": [
       "'result:    12.3457'"
      ]
     },
     "execution_count": 176,
     "metadata": {},
     "output_type": "execute_result"
    }
   ],
   "source": [
    "width = 10\n",
    "precision = 4\n",
    "value = 12.34567\n",
    "f\"result: {value:{width}.{precision}f}\"  # nested fields"
   ]
  },
  {
   "cell_type": "markdown",
   "id": "5c4ce932",
   "metadata": {},
   "source": [
    "for more f-string, please refer to: https://fstring.help/cheat/"
   ]
  },
  {
   "cell_type": "code",
   "execution_count": 177,
   "id": "61b4a8a0",
   "metadata": {},
   "outputs": [
    {
     "name": "stdout",
     "output_type": "stream",
     "text": [
      "2017-01-27 00:00:00\n"
     ]
    },
    {
     "data": {
      "text/plain": [
       "'January 27, 2017'"
      ]
     },
     "execution_count": 177,
     "metadata": {},
     "output_type": "execute_result"
    }
   ],
   "source": [
    "from datetime import datetime\n",
    "today = datetime(year=2017, month=1, day=27)\n",
    "print(today)\n",
    "f\"{today:%B %d, %Y}\"  # using date format specifier"
   ]
  },
  {
   "cell_type": "code",
   "execution_count": 178,
   "id": "6c516ad3",
   "metadata": {
    "scrolled": true
   },
   "outputs": [
    {
     "data": {
      "text/plain": [
       "'today=January 27, 2017'"
      ]
     },
     "execution_count": 178,
     "metadata": {},
     "output_type": "execute_result"
    }
   ],
   "source": [
    "f\"{today=:%B %d, %Y}\" # using date format specifier and debugging"
   ]
  },
  {
   "cell_type": "code",
   "execution_count": 179,
   "id": "b4dcf250",
   "metadata": {},
   "outputs": [
    {
     "data": {
      "text/plain": [
       "'0x400'"
      ]
     },
     "execution_count": 179,
     "metadata": {},
     "output_type": "execute_result"
    }
   ],
   "source": [
    "number = 1024\n",
    "f\"{number:#0x}\"  # using integer format specifier"
   ]
  },
  {
   "cell_type": "code",
   "execution_count": 180,
   "id": "411e673c",
   "metadata": {},
   "outputs": [
    {
     "data": {
      "text/plain": [
       "\" foo = 'bar'\""
      ]
     },
     "execution_count": 180,
     "metadata": {},
     "output_type": "execute_result"
    }
   ],
   "source": [
    "foo = \"bar\"\n",
    "f\"{ foo = }\" # preserves whitespace"
   ]
  },
  {
   "cell_type": "code",
   "execution_count": 181,
   "id": "f9c638e2",
   "metadata": {},
   "outputs": [
    {
     "data": {
      "text/plain": [
       "'line = \"The mill\\'s closed\"'"
      ]
     },
     "execution_count": 181,
     "metadata": {},
     "output_type": "execute_result"
    }
   ],
   "source": [
    "line = \"The mill's closed\"\n",
    "f\"{line = }\""
   ]
  },
  {
   "cell_type": "markdown",
   "id": "cb338b48",
   "metadata": {},
   "source": [
    "# Python Containers"
   ]
  },
  {
   "cell_type": "markdown",
   "id": "d4134d4a",
   "metadata": {},
   "source": [
    "## List: Mutable Dynamic Arrays"
   ]
  },
  {
   "cell_type": "code",
   "execution_count": 182,
   "id": "d23c9bf6",
   "metadata": {},
   "outputs": [
    {
     "name": "stdout",
     "output_type": "stream",
     "text": [
      "[1, 2, 3, 4, 5]\n",
      "['apple', 'banana', 'cherry']\n",
      "[True, 3.14, 'hello', None]\n"
     ]
    }
   ],
   "source": [
    "# Creating a list of numbers\n",
    "numbers = [1, 2, 3, 4, 5]\n",
    "print(numbers) # [1, 2, 3, 4, 5]\n",
    "\n",
    "# Creating a list of strings\n",
    "fruits = [\"apple\", \"banana\", \"cherry\"]\n",
    "print(fruits) # [\"apple\", \"banana\", \"cherry\"]\n",
    "\n",
    "# Creating a list of mixed types\n",
    "mixed = [True, 3.14, \"hello\", None]\n",
    "print(mixed) # [True, 3.14, \"hello\", None]\n"
   ]
  },
  {
   "cell_type": "code",
   "execution_count": 183,
   "id": "1eef89a3",
   "metadata": {},
   "outputs": [
    {
     "data": {
      "text/plain": [
       "[[1, 2], [3, 4], [5, 6]]"
      ]
     },
     "execution_count": 183,
     "metadata": {},
     "output_type": "execute_result"
    }
   ],
   "source": [
    "# A nested list\n",
    "l3 = [[1, 2], [3, 4], [5, 6]]\n",
    "l3"
   ]
  },
  {
   "cell_type": "code",
   "execution_count": 184,
   "id": "1b429fc5",
   "metadata": {},
   "outputs": [
    {
     "data": {
      "text/plain": [
       "[1, 'a', True, [2, 'b']]"
      ]
     },
     "execution_count": 184,
     "metadata": {},
     "output_type": "execute_result"
    }
   ],
   "source": [
    "# A heterogeneous list\n",
    "l4 = [1, \"a\", True, [2, \"b\"]]\n",
    "l4"
   ]
  },
  {
   "cell_type": "code",
   "execution_count": 185,
   "id": "39447f4e",
   "metadata": {},
   "outputs": [
    {
     "name": "stdout",
     "output_type": "stream",
     "text": [
      "Alice\n",
      "1.8\n"
     ]
    }
   ],
   "source": [
    "# A list of lists representing a data set of people\n",
    "data = [\n",
    "    [\"Alice\", 25, True, 1.65, 55],\n",
    "    [\"Bob\", 30, False, 1.75, 70],\n",
    "    [\"Charlie\", 28, True, 1.8, 80],\n",
    "    [\"David\", 32, False, 1.7, 65]\n",
    "]\n",
    "\n",
    "# Access the name of the first person\n",
    "print(data[0][0]) # output: Alice\n",
    "\n",
    "# Access the height of the third person\n",
    "print(data[2][3]) # output: 1.8"
   ]
  },
  {
   "cell_type": "code",
   "execution_count": 186,
   "id": "399e0b15",
   "metadata": {},
   "outputs": [
    {
     "name": "stdout",
     "output_type": "stream",
     "text": [
      "425\n",
      "85.0\n",
      "[75, 80, 85, 90, 95]\n"
     ]
    }
   ],
   "source": [
    "# A list of numbers representing the scores of a test\n",
    "scores = [80, 90, 75, 85, 95]\n",
    "\n",
    "# Calculate the sum of all scores\n",
    "print(sum(scores)) # output: 425\n",
    "\n",
    "# Calculate the average of all scores\n",
    "print(sum(scores) / len(scores)) # output: 85.0\n",
    "\n",
    "# Sort the scores in ascending order\n",
    "scores.sort()\n",
    "print(scores) # output: [75, 80, 85, 90, 95]\n"
   ]
  },
  {
   "cell_type": "code",
   "execution_count": 187,
   "id": "8927f843",
   "metadata": {},
   "outputs": [
    {
     "name": "stdout",
     "output_type": "stream",
     "text": [
      "1\n"
     ]
    }
   ],
   "source": [
    "# A list of words representing the names of fruits\n",
    "fruits = [\"apple\", \"banana\", \"cherry\", \"orange\", \"pear\"]\n",
    "\n",
    "# Count the number of fruits that start with \"a\"\n",
    "count = 0\n",
    "for fruit in fruits:\n",
    "    if fruit.startswith(\"a\"):\n",
    "        count += 1\n",
    "print(count) # output: 1"
   ]
  },
  {
   "cell_type": "code",
   "execution_count": 188,
   "id": "b3d73374",
   "metadata": {},
   "outputs": [
    {
     "name": "stdout",
     "output_type": "stream",
     "text": [
      "apple, banana, cherry, orange, pear\n"
     ]
    }
   ],
   "source": [
    "# Join the fruits with a comma\n",
    "print(\", \".join(fruits)) # output: apple, banana, cherry, orange, pear"
   ]
  },
  {
   "cell_type": "code",
   "execution_count": 189,
   "id": "c87b6f66",
   "metadata": {
    "scrolled": true
   },
   "outputs": [
    {
     "name": "stdout",
     "output_type": "stream",
     "text": [
      "['pear', 'orange', 'cherry', 'banana', 'apple']\n"
     ]
    }
   ],
   "source": [
    "# Reverse the order of the fruits\n",
    "fruits.reverse()\n",
    "print(fruits) # output: ['pear', 'orange', 'cherry', 'banana', 'apple']"
   ]
  },
  {
   "cell_type": "code",
   "execution_count": 190,
   "id": "e85a4860",
   "metadata": {},
   "outputs": [
    {
     "name": "stdout",
     "output_type": "stream",
     "text": [
      "[1, 2, 3, 4, 5]\n",
      "['apple', 'banana', 'cherry']\n",
      "[True, 3.14, 'hello', None]\n"
     ]
    }
   ],
   "source": [
    "# Creating a list of numbers\n",
    "numbers = [1, 2, 3, 4, 5]\n",
    "print(numbers) # [1, 2, 3, 4, 5]\n",
    "\n",
    "# Creating a list of strings\n",
    "fruits = [\"apple\", \"banana\", \"cherry\"]\n",
    "print(fruits) # [\"apple\", \"banana\", \"cherry\"]\n",
    "\n",
    "# Creating a list of mixed types\n",
    "mixed = [True, 3.14, \"hello\", None]\n",
    "print(mixed) # [True, 3.14, \"hello\", None]\n"
   ]
  },
  {
   "cell_type": "code",
   "execution_count": 191,
   "id": "605fc3e7",
   "metadata": {},
   "outputs": [
    {
     "name": "stdout",
     "output_type": "stream",
     "text": [
      "1\n",
      "banana\n",
      "None\n"
     ]
    }
   ],
   "source": [
    "# Accessing elements by index\n",
    "print(numbers[0]) # 1\n",
    "print(fruits[1]) # banana\n",
    "print(mixed[-1]) # None"
   ]
  },
  {
   "cell_type": "code",
   "execution_count": 192,
   "id": "517dbb2c",
   "metadata": {},
   "outputs": [
    {
     "name": "stdout",
     "output_type": "stream",
     "text": [
      "[10, 2, 3, 4, 5]\n",
      "['apple', 'blueberry', 'cherry']\n",
      "[True, 3.14, 'hello', 'world']\n"
     ]
    }
   ],
   "source": [
    "# Modifying elements by index\n",
    "numbers[0] = 10\n",
    "fruits[1] = \"blueberry\"\n",
    "mixed[-1] = \"world\"\n",
    "print(numbers) # [10, 2, 3, 4, 5]\n",
    "print(fruits) # [\"apple\", \"blueberry\", \"cherry\"]\n",
    "print(mixed) # [True, 3.14, \"hello\", \"world\"]"
   ]
  },
  {
   "cell_type": "code",
   "execution_count": 193,
   "id": "4113d91b",
   "metadata": {},
   "outputs": [
    {
     "name": "stdout",
     "output_type": "stream",
     "text": [
      "[10, 2, 3, 4, 5, 6]\n",
      "['apple', 'blueberry', 'cherry', 'orange', 'grape']\n",
      "[False, True, 3.14, 'hello', 'world']\n"
     ]
    }
   ],
   "source": [
    "# Adding elements by append or extend methods\n",
    "numbers.append(6) # Add one element at the end\n",
    "fruits.extend([\"orange\", \"grape\"]) # Add multiple elements at the end\n",
    "mixed.insert(0, False) # Insert one element at a given position\n",
    "print(numbers) # [10, 2, 3, 4, 5, 6]\n",
    "print(fruits) # [\"apple\", \"blueberry\", \"cherry\", \"orange\", \"grape\"]\n",
    "print(mixed) # [False, True, 3.14, \"hello\", \"world\"]"
   ]
  },
  {
   "cell_type": "code",
   "execution_count": 194,
   "id": "d896c3c2",
   "metadata": {},
   "outputs": [
    {
     "name": "stdout",
     "output_type": "stream",
     "text": [
      "[10, 2, 3, 4, 5]\n",
      "['blueberry', 'cherry', 'orange', 'grape']\n",
      "[True, 3.14, 'hello', 'world']\n"
     ]
    }
   ],
   "source": [
    "# Removing elements by pop or remove methods\n",
    "numbers.pop() # Remove and return the last element\n",
    "fruits.remove(\"apple\") # Remove the first occurrence of an element\n",
    "mixed.pop(0) # Remove and return the element at a given position\n",
    "print(numbers) # [10, 2, 3, 4, 5]\n",
    "print(fruits) # [\"blueberry\", \"cherry\", \"orange\", \"grape\"]\n",
    "print(mixed) # [True, 3.14, \"hello\", \"world\"]"
   ]
  },
  {
   "cell_type": "markdown",
   "id": "53dc8616",
   "metadata": {},
   "source": [
    "<b>Loops:</b> You can loop over the elements of a list like this:"
   ]
  },
  {
   "cell_type": "code",
   "execution_count": 195,
   "id": "8df3e3b4",
   "metadata": {},
   "outputs": [
    {
     "name": "stdout",
     "output_type": "stream",
     "text": [
      "cat\n",
      "dog\n",
      "monkey\n"
     ]
    }
   ],
   "source": [
    "animals = ['cat', 'dog', 'monkey']\n",
    "for animal in animals:\n",
    "    print(animal)\n",
    "# Prints \"cat\", \"dog\", \"monkey\", each on its own line."
   ]
  },
  {
   "cell_type": "markdown",
   "id": "149d74ed",
   "metadata": {},
   "source": [
    "<b> List comprehensions: </b> When programming, frequently we want to transform one type of\n",
    "data into another. As a simple example, consider the following code that computes square\n",
    "numbers:"
   ]
  },
  {
   "cell_type": "code",
   "execution_count": 196,
   "id": "6ffd996e",
   "metadata": {},
   "outputs": [
    {
     "name": "stdout",
     "output_type": "stream",
     "text": [
      "[0, 1, 4, 9, 16]\n"
     ]
    }
   ],
   "source": [
    "nums = [0, 1, 2, 3, 4]\n",
    "squares = []\n",
    "for x in nums:\n",
    "    squares.append(x ** 2)\n",
    "print(squares) \n",
    "# Prints [0, 1, 4, 9, 16]"
   ]
  },
  {
   "cell_type": "markdown",
   "id": "5e706eb3",
   "metadata": {},
   "source": [
    "You can make this code simpler using a List comprehensions:"
   ]
  },
  {
   "cell_type": "code",
   "execution_count": 197,
   "id": "a98b341f",
   "metadata": {},
   "outputs": [
    {
     "name": "stdout",
     "output_type": "stream",
     "text": [
      "[0, 1, 4, 9, 16]\n"
     ]
    }
   ],
   "source": [
    "nums = [0, 1, 2, 3, 4]\n",
    "squares = [x ** 2 for x in nums]\n",
    "print(squares) \n",
    "# Prints [0, 1, 4, 9, 16]"
   ]
  },
  {
   "cell_type": "markdown",
   "id": "1ff99280",
   "metadata": {},
   "source": [
    "List comprehensions can also contain conditions:"
   ]
  },
  {
   "cell_type": "code",
   "execution_count": 198,
   "id": "a00b55de",
   "metadata": {},
   "outputs": [
    {
     "name": "stdout",
     "output_type": "stream",
     "text": [
      "[0, 4, 16]\n"
     ]
    }
   ],
   "source": [
    "nums = [0, 1, 2, 3, 4]\n",
    "even_squares = [x ** 2 for x in nums if x % 2 == 0]\n",
    "print(even_squares) "
   ]
  },
  {
   "cell_type": "code",
   "execution_count": 199,
   "id": "60a0e966",
   "metadata": {},
   "outputs": [
    {
     "name": "stdout",
     "output_type": "stream",
     "text": [
      "['apple', 'banana', 'cherry', 'kiwi', 'mango']\n"
     ]
    }
   ],
   "source": [
    "fruits = [\"apple\", \"banana\", \"cherry\", \"kiwi\", \"mango\"]\n",
    "\n",
    "newlist = [x for x in fruits]\n",
    "\n",
    "print(newlist)"
   ]
  },
  {
   "cell_type": "code",
   "execution_count": 200,
   "id": "be49a537",
   "metadata": {},
   "outputs": [
    {
     "name": "stdout",
     "output_type": "stream",
     "text": [
      "['apple', 'banana', 'mango']\n"
     ]
    }
   ],
   "source": [
    "fruits = [\"apple\", \"banana\", \"cherry\", \"kiwi\", \"mango\"]\n",
    "\n",
    "newlist = [x for x in fruits if \"a\" in x]\n",
    "\n",
    "print(newlist)"
   ]
  },
  {
   "cell_type": "code",
   "execution_count": null,
   "id": "d02dc15d",
   "metadata": {},
   "outputs": [],
   "source": []
  },
  {
   "cell_type": "markdown",
   "id": "594c1633",
   "metadata": {},
   "source": [
    "### List Excercises\n"
   ]
  },
  {
   "cell_type": "code",
   "execution_count": 201,
   "id": "53a9e0c6",
   "metadata": {},
   "outputs": [
    {
     "name": "stdout",
     "output_type": "stream",
     "text": [
      "Before swapping: [100, 37, 66, 92, 7]\n",
      "After swapping:  [7, 37, 66, 92, 100]\n"
     ]
    }
   ],
   "source": [
    "List = [100,37,66,92,7]\n",
    "print(f\"Before swapping: {List}\")\n",
    "\n",
    "size = len(List)\n",
    "# Swapping\n",
    "temp = List[0]\n",
    "List[0] = List[size - 1]\n",
    "List[size - 1] = temp\n",
    "\n",
    "print(f\"After swapping:  {List}\")"
   ]
  },
  {
   "cell_type": "code",
   "execution_count": 202,
   "id": "d8ba4d4f",
   "metadata": {},
   "outputs": [
    {
     "name": "stdout",
     "output_type": "stream",
     "text": [
      "Before swapping: [100, 37, 66, 92, 7]\n",
      "After swapping:  [7, 37, 66, 92, 100]\n"
     ]
    }
   ],
   "source": [
    "List = [100,37,66,92,7]\n",
    "print(f\"Before swapping: {List}\")\n",
    "\n",
    "List[0], List[-1] = List[-1], List[0]\n",
    "print(f\"After swapping:  {List}\")"
   ]
  },
  {
   "cell_type": "code",
   "execution_count": 203,
   "id": "6826c18f",
   "metadata": {},
   "outputs": [
    {
     "name": "stdout",
     "output_type": "stream",
     "text": [
      "Before swapping: [100, 37, 66, 92, 7]\n",
      "After pop:       [37, 66, 92]\n",
      "After insert and append:  [7, 37, 66, 92, 100]\n"
     ]
    }
   ],
   "source": [
    "List = [100,37,66,92,7]\n",
    "print(f\"Before swapping: {List}\")\n",
    "\n",
    "first = List.pop(0)  \n",
    "last = List.pop(-1)\n",
    "print(f\"After pop:       {List}\")\n",
    "\n",
    "List.insert(0, last) \n",
    "List.append(first) \n",
    "print(f\"After insert and append:  {List}\")"
   ]
  },
  {
   "cell_type": "code",
   "execution_count": 204,
   "id": "9418b2d6",
   "metadata": {},
   "outputs": [
    {
     "name": "stdout",
     "output_type": "stream",
     "text": [
      "Before swapping: [100, 37, 66, 92, 7]\n",
      "After swapping:  [7, 37, 66, 92, 100]\n"
     ]
    }
   ],
   "source": [
    "List = [100,37,66,92,7]\n",
    "print(f\"Before swapping: {List}\")\n",
    "\n",
    "List = List[-1:] + List[1:-1] + List[:1]\n",
    "print(f\"After swapping:  {List}\")"
   ]
  },
  {
   "cell_type": "code",
   "execution_count": 205,
   "id": "eeb65a86",
   "metadata": {},
   "outputs": [
    {
     "name": "stdout",
     "output_type": "stream",
     "text": [
      "Smallest element is: 7\n"
     ]
    }
   ],
   "source": [
    "List = [100,37,66,92,7]\n",
    "List.sort()\n",
    " \n",
    "# printing the first element\n",
    "print(\"Smallest element is:\", List[0])"
   ]
  },
  {
   "cell_type": "code",
   "execution_count": 206,
   "id": "50e6599d",
   "metadata": {},
   "outputs": [
    {
     "name": "stdout",
     "output_type": "stream",
     "text": [
      "Smallest element is: 7\n"
     ]
    }
   ],
   "source": [
    "List = [100,37,66,92,7]\n",
    " \n",
    "# printing the first element\n",
    "print(\"Smallest element is:\", min(List))"
   ]
  },
  {
   "cell_type": "code",
   "execution_count": 207,
   "id": "abf0f798",
   "metadata": {},
   "outputs": [
    {
     "name": "stdout",
     "output_type": "stream",
     "text": [
      "\n",
      "List1:[100, 37, 66, 92, 7],   List2:[100, 37, 66, 92, 7]\n",
      "\n",
      "List1:[100, 37, 66, 92, 7, 666],   List2:[100, 37, 66, 92, 7, 666]\n"
     ]
    }
   ],
   "source": [
    "List1 = [100,37,66,92,7]\n",
    "List2 = List1\n",
    "\n",
    "print(f\"\\nList1:{List1},   List2:{List2}\")\n",
    "\n",
    "List1.append(666)\n",
    "\n",
    "print(f\"\\nList1:{List1},   List2:{List2}\")"
   ]
  },
  {
   "cell_type": "code",
   "execution_count": 208,
   "id": "8df0e450",
   "metadata": {},
   "outputs": [
    {
     "name": "stdout",
     "output_type": "stream",
     "text": [
      "\n",
      "List1:[100, 37, 66, 92, 7],   List2:[100, 37, 66, 92, 7]\n",
      "\n",
      "List1:[100, 37, 66, 92, 7, 666],   List2:[100, 37, 66, 92, 7]\n"
     ]
    }
   ],
   "source": [
    "List1 = [100,37,66,92,7]\n",
    "List2 = List1[:]\n",
    "\n",
    "print(f\"\\nList1:{List1},   List2:{List2}\")\n",
    "\n",
    "List1.append(666)\n",
    "\n",
    "print(f\"\\nList1:{List1},   List2:{List2}\")"
   ]
  },
  {
   "cell_type": "code",
   "execution_count": 209,
   "id": "7e759d67",
   "metadata": {},
   "outputs": [
    {
     "name": "stdout",
     "output_type": "stream",
     "text": [
      "\n",
      "List1:[100, 37, 66, 92, 7],   List2:[100, 37, 66, 92, 7]\n",
      "\n",
      "List1:[100, 37, 66, 92, 7, 666],   List2:[100, 37, 66, 92, 7]\n"
     ]
    }
   ],
   "source": [
    "List1 = [100,37,66,92,7]\n",
    "List2 = []\n",
    "List2.extend(List1)\n",
    "    \n",
    "print(f\"\\nList1:{List1},   List2:{List2}\")\n",
    "\n",
    "List1.append(666)\n",
    "\n",
    "print(f\"\\nList1:{List1},   List2:{List2}\")"
   ]
  },
  {
   "cell_type": "code",
   "execution_count": 210,
   "id": "c50ff85a",
   "metadata": {},
   "outputs": [
    {
     "name": "stdout",
     "output_type": "stream",
     "text": [
      "\n",
      "List1:[100, 37, 66, 92, 7],   List2:[100, 37, 66, 92, 7]\n",
      "\n",
      "List1:[100, 37, 66, 92, 7, 666],   List2:[100, 37, 66, 92, 7]\n"
     ]
    }
   ],
   "source": [
    "import copy\n",
    "   \n",
    "List1 = [100,37,66,92,7]\n",
    "List2 = copy.copy(List1)\n",
    "    \n",
    "print(f\"\\nList1:{List1},   List2:{List2}\")\n",
    "\n",
    "List1.append(666)\n",
    "\n",
    "print(f\"\\nList1:{List1},   List2:{List2}\")"
   ]
  },
  {
   "cell_type": "code",
   "execution_count": 211,
   "id": "2eb0c290",
   "metadata": {
    "scrolled": true
   },
   "outputs": [
    {
     "name": "stdout",
     "output_type": "stream",
     "text": [
      "\n",
      "List1:[100, 37, 66, 92, 7],   List2:[100, 37, 66, 92, 7]\n",
      "\n",
      "List1:[100, 37, 66, 92, 7, 666],   List2:[100, 37, 66, 92, 7]\n"
     ]
    }
   ],
   "source": [
    "import copy\n",
    "   \n",
    "List1 = [100,37,66,92,7]\n",
    "List2 = copy.deepcopy(List1)\n",
    "    \n",
    "print(f\"\\nList1:{List1},   List2:{List2}\")\n",
    "\n",
    "List1.append(666)\n",
    "\n",
    "print(f\"\\nList1:{List1},   List2:{List2}\")"
   ]
  },
  {
   "cell_type": "code",
   "execution_count": 212,
   "id": "e721d3f9",
   "metadata": {
    "scrolled": true
   },
   "outputs": [
    {
     "name": "stdout",
     "output_type": "stream",
     "text": [
      "\n",
      "List1:[100, [123, 321, 1234567], 66, 92, 7],   List2:[100, [123, 321, 1234567], 66, 92, 7]\n",
      "\n",
      "List1:[100, [123, 321, 1234567], 66, 92, 7, 666],   List2:[100, [123, 321, 1234567], 66, 92, 7]\n",
      "\n",
      "List1:[100, [123, 321, 1234567, 7654321], 66, 92, 7, 666], \n",
      "List2:[100, [123, 321, 1234567, 7654321], 66, 92, 7]\n"
     ]
    }
   ],
   "source": [
    "import copy\n",
    "   \n",
    "List1 = [100,[123,321,1234567],66,92,7]\n",
    "List2 = copy.copy(List1)\n",
    "    \n",
    "print(f\"\\nList1:{List1},   List2:{List2}\")\n",
    "\n",
    "List1.append(666)\n",
    "print(f\"\\nList1:{List1},   List2:{List2}\")\n",
    "\n",
    "List1[1].append(7654321)\n",
    "print(f\"\\nList1:{List1}, \\nList2:{List2}\")\n"
   ]
  },
  {
   "cell_type": "code",
   "execution_count": 213,
   "id": "87cc2768",
   "metadata": {
    "scrolled": true
   },
   "outputs": [
    {
     "name": "stdout",
     "output_type": "stream",
     "text": [
      "\n",
      "List1:[100, [123, 321, 1234567], 66, 92, 7],   List2:[100, [123, 321, 1234567], 66, 92, 7]\n",
      "\n",
      "List1:[100, [123, 321, 1234567], 66, 92, 7, 666],   List2:[100, [123, 321, 1234567], 66, 92, 7]\n",
      "\n",
      "List1:[100, [123, 321, 1234567, 7654321], 66, 92, 7, 666], \n",
      "List2:[100, [123, 321, 1234567], 66, 92, 7]\n"
     ]
    }
   ],
   "source": [
    "import copy\n",
    "   \n",
    "List1 = [100,[123,321,1234567],66,92,7]\n",
    "List2 = copy.deepcopy(List1)\n",
    "    \n",
    "print(f\"\\nList1:{List1},   List2:{List2}\")\n",
    "\n",
    "List1.append(666)\n",
    "print(f\"\\nList1:{List1},   List2:{List2}\")\n",
    "\n",
    "List1[1].append(7654321)\n",
    "print(f\"\\nList1:{List1}, \\nList2:{List2}\")\n"
   ]
  },
  {
   "cell_type": "code",
   "execution_count": 214,
   "id": "4228c455",
   "metadata": {
    "scrolled": true
   },
   "outputs": [
    {
     "name": "stdout",
     "output_type": "stream",
     "text": [
      "\n",
      "List1:[100, [123, 321, 1234567], 66, 92, 7],   List2:[100, [123, 321, 1234567], 66, 92, 7]\n",
      "\n",
      "List1:[100, [123, 321, 1234567], 66, 92, 7, 666],   List2:[100, [123, 321, 1234567], 66, 92, 7]\n",
      "\n",
      "List1:[100, [123, 321, 1234567, 7654321], 66, 92, 7, 666], \n",
      "List2:[100, [123, 321, 1234567, 7654321], 66, 92, 7]\n"
     ]
    }
   ],
   "source": [
    "  \n",
    "List1 = [100,[123,321,1234567],66,92,7]\n",
    "List2 = List1[:]\n",
    "    \n",
    "print(f\"\\nList1:{List1},   List2:{List2}\")\n",
    "\n",
    "List1.append(666)\n",
    "print(f\"\\nList1:{List1},   List2:{List2}\")\n",
    "\n",
    "List1[1].append(7654321)\n",
    "print(f\"\\nList1:{List1}, \\nList2:{List2}\")\n"
   ]
  },
  {
   "cell_type": "code",
   "execution_count": 215,
   "id": "08d0a375",
   "metadata": {
    "scrolled": true
   },
   "outputs": [
    {
     "name": "stdout",
     "output_type": "stream",
     "text": [
      "\n",
      "List1:[100, [123, 321, 1234567], 66, 92, 7],   List2:[100, [123, 321, 1234567], 66, 92, 7]\n",
      "\n",
      "List1:[100, [123, 321, 1234567], 66, 92, 7, 666],   List2:[100, [123, 321, 1234567], 66, 92, 7]\n",
      "\n",
      "List1:[100, [123, 321, 1234567, 7654321], 66, 92, 7, 666], \n",
      "List2:[100, [123, 321, 1234567, 7654321], 66, 92, 7]\n"
     ]
    }
   ],
   "source": [
    "List1 = [100,[123,321,1234567],66,92,7]\n",
    "List2 = List1.copy()\n",
    "    \n",
    "print(f\"\\nList1:{List1},   List2:{List2}\")\n",
    "\n",
    "List1.append(666)\n",
    "print(f\"\\nList1:{List1},   List2:{List2}\")\n",
    "\n",
    "List1[1].append(7654321)\n",
    "print(f\"\\nList1:{List1}, \\nList2:{List2}\")\n"
   ]
  },
  {
   "cell_type": "markdown",
   "id": "13e05248",
   "metadata": {},
   "source": [
    "## Tuple: Immutable Containers\n"
   ]
  },
  {
   "cell_type": "code",
   "execution_count": 216,
   "id": "10af00a4",
   "metadata": {},
   "outputs": [
    {
     "name": "stdout",
     "output_type": "stream",
     "text": [
      "(1, 2, 3)\n",
      "('apple', 'banana', 'cherry')\n",
      "(True, 3.14, 'hello')\n"
     ]
    }
   ],
   "source": [
    "# Creating a tuple of numbers\n",
    "numbers = (1, 2, 3)\n",
    "print(numbers) # (1, 2 ,3)\n",
    "\n",
    "# Creating a tuple of strings\n",
    "fruits = (\"apple\", \"banana\", \"cherry\")\n",
    "print(fruits) # (\"apple\", \"banana\", \"cherry\")\n",
    "\n",
    "# Creating a tuple of mixed types\n",
    "mixed = (True, 3.14 , \"hello\")\n",
    "print(mixed) # (True ,3.14 , \"hello\")"
   ]
  },
  {
   "cell_type": "markdown",
   "id": "46acb764",
   "metadata": {},
   "source": [
    "A tuple is immutable , which means you can't change its elements after creating it. You can only access elements from a tuple by using index or slice operators . For example:\n"
   ]
  },
  {
   "cell_type": "code",
   "execution_count": 217,
   "id": "186ce819",
   "metadata": {},
   "outputs": [
    {
     "name": "stdout",
     "output_type": "stream",
     "text": [
      "1\n",
      "banana\n",
      "hello\n",
      "(1, 2)\n",
      "('apple', 'banana')\n",
      "(3.14, 'hello')\n"
     ]
    }
   ],
   "source": [
    "# Accessing elements by index \n",
    "print(numbers[0]) # 1 \n",
    "print(fruits[1]) # banana \n",
    "print(mixed[-1]) # hello \n",
    "\n",
    "# Accessing elements by slice \n",
    "print(numbers[0:2]) # (1 ,2) \n",
    "print(fruits[:2]) # (\"apple\" ,\"banana\") \n",
    "print(mixed[1:]) # (3.14 ,\"hello\") "
   ]
  },
  {
   "cell_type": "markdown",
   "id": "ab19fc1e",
   "metadata": {},
   "source": [
    "You can't modify , add , or remove elements from a tuple because it is immutable . If you try to do that , Python will get angry and throw an error . For example:"
   ]
  },
  {
   "cell_type": "code",
   "execution_count": 218,
   "id": "d86ff658",
   "metadata": {},
   "outputs": [
    {
     "ename": "TypeError",
     "evalue": "'tuple' object does not support item assignment",
     "output_type": "error",
     "traceback": [
      "\u001b[1;31m---------------------------------------------------------------------------\u001b[0m",
      "\u001b[1;31mTypeError\u001b[0m                                 Traceback (most recent call last)",
      "Cell \u001b[1;32mIn[218], line 2\u001b[0m\n\u001b[0;32m      1\u001b[0m \u001b[38;5;66;03m# Trying to modify an element \u001b[39;00m\n\u001b[1;32m----> 2\u001b[0m numbers[\u001b[38;5;241m0\u001b[39m] \u001b[38;5;241m=\u001b[39m \u001b[38;5;241m10\u001b[39m\n",
      "\u001b[1;31mTypeError\u001b[0m: 'tuple' object does not support item assignment"
     ]
    }
   ],
   "source": [
    "# Trying to modify an element \n",
    "numbers[0] = 10 # TypeError: 'tuple' object does not support item assignment "
   ]
  },
  {
   "cell_type": "code",
   "execution_count": 219,
   "id": "285f99d5",
   "metadata": {},
   "outputs": [
    {
     "ename": "AttributeError",
     "evalue": "'tuple' object has no attribute 'append'",
     "output_type": "error",
     "traceback": [
      "\u001b[1;31m---------------------------------------------------------------------------\u001b[0m",
      "\u001b[1;31mAttributeError\u001b[0m                            Traceback (most recent call last)",
      "Cell \u001b[1;32mIn[219], line 2\u001b[0m\n\u001b[0;32m      1\u001b[0m \u001b[38;5;66;03m# Trying to add an element \u001b[39;00m\n\u001b[1;32m----> 2\u001b[0m \u001b[43mfruits\u001b[49m\u001b[38;5;241;43m.\u001b[39;49m\u001b[43mappend\u001b[49m(\u001b[38;5;124m\"\u001b[39m\u001b[38;5;124morange\u001b[39m\u001b[38;5;124m\"\u001b[39m)\n",
      "\u001b[1;31mAttributeError\u001b[0m: 'tuple' object has no attribute 'append'"
     ]
    }
   ],
   "source": [
    "# Trying to add an element \n",
    "fruits.append(\"orange\") # AttributeError: 'tuple' object has no attribute 'append' "
   ]
  },
  {
   "cell_type": "code",
   "execution_count": 220,
   "id": "04ed0ec0",
   "metadata": {},
   "outputs": [
    {
     "ename": "AttributeError",
     "evalue": "'tuple' object has no attribute 'remove'",
     "output_type": "error",
     "traceback": [
      "\u001b[1;31m---------------------------------------------------------------------------\u001b[0m",
      "\u001b[1;31mAttributeError\u001b[0m                            Traceback (most recent call last)",
      "Cell \u001b[1;32mIn[220], line 2\u001b[0m\n\u001b[0;32m      1\u001b[0m \u001b[38;5;66;03m# Trying to remove an element \u001b[39;00m\n\u001b[1;32m----> 2\u001b[0m \u001b[43mmixed\u001b[49m\u001b[38;5;241;43m.\u001b[39;49m\u001b[43mremove\u001b[49m(\u001b[38;5;28;01mTrue\u001b[39;00m)\n",
      "\u001b[1;31mAttributeError\u001b[0m: 'tuple' object has no attribute 'remove'"
     ]
    }
   ],
   "source": [
    "# Trying to remove an element \n",
    "mixed.remove(True) # AttributeError: 'tuple' object has no attribute 'remove' "
   ]
  },
  {
   "cell_type": "markdown",
   "id": "d6b0f5fb",
   "metadata": {},
   "source": [
    "Memory efficiency \n",
    "\n"
   ]
  },
  {
   "cell_type": "code",
   "execution_count": 221,
   "id": "04ea144d",
   "metadata": {},
   "outputs": [
    {
     "name": "stdout",
     "output_type": "stream",
     "text": [
      "The list size: 104 bytes\n",
      "The tuple size: 80 bytes\n"
     ]
    }
   ],
   "source": [
    "import sys\n",
    "\n",
    "list1 = [100,37,66,92,7]\n",
    "tuple1 = (100,37,66,92,7)\n",
    "print('The list size:', sys.getsizeof(list1), 'bytes')\n",
    "print('The tuple size:', sys.getsizeof(tuple1), 'bytes')"
   ]
  },
  {
   "cell_type": "code",
   "execution_count": 222,
   "id": "7d92cb73",
   "metadata": {},
   "outputs": [],
   "source": [
    "z = 3, 4"
   ]
  },
  {
   "cell_type": "code",
   "execution_count": 223,
   "id": "74b38c22",
   "metadata": {},
   "outputs": [
    {
     "data": {
      "text/plain": [
       "tuple"
      ]
     },
     "execution_count": 223,
     "metadata": {},
     "output_type": "execute_result"
    }
   ],
   "source": [
    "type(z)"
   ]
  },
  {
   "cell_type": "markdown",
   "id": "a723ae24",
   "metadata": {},
   "source": [
    "tuples can contain mutable elements such as lists"
   ]
  },
  {
   "cell_type": "code",
   "execution_count": 224,
   "id": "f77b3b1a",
   "metadata": {},
   "outputs": [
    {
     "name": "stdout",
     "output_type": "stream",
     "text": [
      "([10, 20], ['Hello', 'World'])\n",
      "([99, 20], ['Hello', 'Kitty'])\n"
     ]
    }
   ],
   "source": [
    "tuple1 = ([10,20], ['Hello', 'World'])\n",
    "print(tuple1)\n",
    "\n",
    "tuple1 [0][0] = 99\n",
    "tuple1 [1][1] = 'Kitty'\n",
    "\n",
    "print(tuple1)"
   ]
  },
  {
   "cell_type": "code",
   "execution_count": 225,
   "id": "2f9e5c00",
   "metadata": {},
   "outputs": [
    {
     "name": "stdout",
     "output_type": "stream",
     "text": [
      "(1, 2, 3, 4)\n"
     ]
    }
   ],
   "source": [
    "tuple_1 = (1, 2)\n",
    "tuple_2 = (3, 4)\n",
    "tuple_3 = tuple_1 + tuple_2\n",
    "\n",
    "print(tuple_3)"
   ]
  },
  {
   "cell_type": "markdown",
   "id": "acdd917b",
   "metadata": {},
   "source": [
    "zip"
   ]
  },
  {
   "cell_type": "code",
   "execution_count": 226,
   "id": "31b83e0e",
   "metadata": {},
   "outputs": [
    {
     "name": "stdout",
     "output_type": "stream",
     "text": [
      "<zip object at 0x000002DDAB742000>\n"
     ]
    }
   ],
   "source": [
    "first_names = ('Simon', 'Sarah', 'Mike')\n",
    "last_names = ('Law', 'Lee', 'Smith')\n",
    "ages = (19, 25, 29)\n",
    "\n",
    "zipped = zip(first_names, last_names,ages)\n",
    "print(zipped)"
   ]
  },
  {
   "cell_type": "code",
   "execution_count": 227,
   "id": "c0952d9c",
   "metadata": {
    "scrolled": true
   },
   "outputs": [
    {
     "name": "stdout",
     "output_type": "stream",
     "text": [
      "(('Simon', 'Law', 19), ('Sarah', 'Lee', 25), ('Mike', 'Smith', 29))\n"
     ]
    }
   ],
   "source": [
    "employee = tuple(zipped)\n",
    "print(employee)"
   ]
  },
  {
   "cell_type": "code",
   "execution_count": 228,
   "id": "581030cc",
   "metadata": {},
   "outputs": [
    {
     "name": "stdout",
     "output_type": "stream",
     "text": [
      "<zip object at 0x000002DDAD2F2600>\n"
     ]
    }
   ],
   "source": [
    "first_names = ('Simon', 'Sarah', 'Mike')\n",
    "last_names = ('Law', 'Lee', 'Smith')\n",
    "ages = (19, 25, 29)\n",
    "\n",
    "zipped = zip(first_names, last_names,ages)\n",
    "print(zipped)"
   ]
  },
  {
   "cell_type": "code",
   "execution_count": 229,
   "id": "fb5f3868",
   "metadata": {},
   "outputs": [
    {
     "name": "stdout",
     "output_type": "stream",
     "text": [
      "[('Simon', 'Law', 19), ('Sarah', 'Lee', 25), ('Mike', 'Smith', 29)]\n"
     ]
    }
   ],
   "source": [
    "employee_l = list(zipped)\n",
    "print(employee_l)"
   ]
  },
  {
   "cell_type": "code",
   "execution_count": 230,
   "id": "309dc242",
   "metadata": {},
   "outputs": [
    {
     "name": "stdout",
     "output_type": "stream",
     "text": [
      "Sarah, Lee, 25 years old\n"
     ]
    }
   ],
   "source": [
    "tuple1 =  ('Sarah', 'Lee', 25)\n",
    "\n",
    "first_name, last_name, age = tuple1\n",
    "\n",
    "print(f\"{first_name}, {last_name}, {age} years old\")"
   ]
  },
  {
   "cell_type": "markdown",
   "id": "4a1a7b7f",
   "metadata": {},
   "source": [
    "tuple copy"
   ]
  },
  {
   "cell_type": "code",
   "execution_count": 231,
   "id": "59b5cc0c",
   "metadata": {},
   "outputs": [],
   "source": [
    "a = (1, 2, 3)\n",
    "b = a\n",
    "c = a[:]"
   ]
  },
  {
   "cell_type": "code",
   "execution_count": 232,
   "id": "2376b2f2",
   "metadata": {},
   "outputs": [
    {
     "data": {
      "text/plain": [
       "3151117374656"
      ]
     },
     "execution_count": 232,
     "metadata": {},
     "output_type": "execute_result"
    }
   ],
   "source": [
    "id(a)"
   ]
  },
  {
   "cell_type": "code",
   "execution_count": 233,
   "id": "7b7dd2b1",
   "metadata": {},
   "outputs": [
    {
     "data": {
      "text/plain": [
       "3151117374656"
      ]
     },
     "execution_count": 233,
     "metadata": {},
     "output_type": "execute_result"
    }
   ],
   "source": [
    "id(b)"
   ]
  },
  {
   "cell_type": "code",
   "execution_count": 234,
   "id": "79a91ee0",
   "metadata": {},
   "outputs": [
    {
     "data": {
      "text/plain": [
       "3151117374656"
      ]
     },
     "execution_count": 234,
     "metadata": {},
     "output_type": "execute_result"
    }
   ],
   "source": [
    "id(c)"
   ]
  },
  {
   "cell_type": "code",
   "execution_count": 235,
   "id": "2920c261",
   "metadata": {},
   "outputs": [],
   "source": [
    "a = [1, 2, 3]\n",
    "b = a\n",
    "c = a[:]"
   ]
  },
  {
   "cell_type": "code",
   "execution_count": 236,
   "id": "1ae23679",
   "metadata": {},
   "outputs": [
    {
     "data": {
      "text/plain": [
       "3151116698112"
      ]
     },
     "execution_count": 236,
     "metadata": {},
     "output_type": "execute_result"
    }
   ],
   "source": [
    "id(a)"
   ]
  },
  {
   "cell_type": "code",
   "execution_count": 237,
   "id": "d0bc7021",
   "metadata": {},
   "outputs": [
    {
     "data": {
      "text/plain": [
       "3151116698112"
      ]
     },
     "execution_count": 237,
     "metadata": {},
     "output_type": "execute_result"
    }
   ],
   "source": [
    "id(b)"
   ]
  },
  {
   "cell_type": "code",
   "execution_count": 238,
   "id": "1396bedb",
   "metadata": {},
   "outputs": [
    {
     "data": {
      "text/plain": [
       "3151116575872"
      ]
     },
     "execution_count": 238,
     "metadata": {},
     "output_type": "execute_result"
    }
   ],
   "source": [
    "id(c)"
   ]
  },
  {
   "cell_type": "markdown",
   "id": "72dabe09",
   "metadata": {},
   "source": [
    "Functions that return multiple values"
   ]
  },
  {
   "cell_type": "code",
   "execution_count": 239,
   "id": "de47648e",
   "metadata": {},
   "outputs": [],
   "source": [
    "def count_sum(l):\n",
    "   count = len(l)\n",
    "   total = sum(l)\n",
    "   return count, total"
   ]
  },
  {
   "cell_type": "code",
   "execution_count": 240,
   "id": "3b5667f8",
   "metadata": {},
   "outputs": [
    {
     "data": {
      "text/plain": [
       "(4, 10)"
      ]
     },
     "execution_count": 240,
     "metadata": {},
     "output_type": "execute_result"
    }
   ],
   "source": [
    "count_sum([1,2,3,4])"
   ]
  },
  {
   "cell_type": "markdown",
   "id": "504d137c",
   "metadata": {},
   "source": [
    "\n",
    "## Set: Unordered Collections of Unique Elements\n"
   ]
  },
  {
   "cell_type": "code",
   "execution_count": 241,
   "id": "534133fd",
   "metadata": {},
   "outputs": [
    {
     "name": "stdout",
     "output_type": "stream",
     "text": [
      "{1, 2, 3, 4, 5}\n",
      "{'apple', 'cherry', 'banana'}\n",
      "{'hello', True, 3.14}\n"
     ]
    }
   ],
   "source": [
    "# Creating a set of numbers\n",
    "numbers = {1, 2, 3, 4, 5}\n",
    "print(numbers) # {1, 2, 3, 4, 5}\n",
    "\n",
    "# Creating a set of strings\n",
    "fruits = {\"apple\", \"banana\", \"cherry\"}\n",
    "print(fruits) # {\"apple\", \"banana\", \"cherry\"}\n",
    "\n",
    "# Creating a set of mixed types\n",
    "mixed = {True, 3.14, \"hello\"}\n",
    "print(mixed) # {True, 3.14, \"hello\"}"
   ]
  },
  {
   "cell_type": "code",
   "execution_count": 242,
   "id": "82487c1e",
   "metadata": {},
   "outputs": [
    {
     "name": "stdout",
     "output_type": "stream",
     "text": [
      "{1, 2, 3, 4, 5, 6}\n",
      "{'cherry', 'banana'}\n"
     ]
    }
   ],
   "source": [
    "# Adding an element to a set\n",
    "numbers.add(6)\n",
    "print(numbers) # {1, 2, 3, 4, 5, 6}\n",
    "\n",
    "# Removing an element from a set\n",
    "fruits.remove(\"apple\")\n",
    "print(fruits) # {\"banana\", \"cherry\"}"
   ]
  },
  {
   "cell_type": "code",
   "execution_count": 243,
   "id": "bcf02969",
   "metadata": {
    "scrolled": true
   },
   "outputs": [
    {
     "ename": "TypeError",
     "evalue": "'set' object is not subscriptable",
     "output_type": "error",
     "traceback": [
      "\u001b[1;31m---------------------------------------------------------------------------\u001b[0m",
      "\u001b[1;31mTypeError\u001b[0m                                 Traceback (most recent call last)",
      "Cell \u001b[1;32mIn[243], line 2\u001b[0m\n\u001b[0;32m      1\u001b[0m \u001b[38;5;66;03m# Trying to access an element by index\u001b[39;00m\n\u001b[1;32m----> 2\u001b[0m \u001b[38;5;28mprint\u001b[39m(\u001b[43mnumbers\u001b[49m\u001b[43m[\u001b[49m\u001b[38;5;241;43m0\u001b[39;49m\u001b[43m]\u001b[49m)\n",
      "\u001b[1;31mTypeError\u001b[0m: 'set' object is not subscriptable"
     ]
    }
   ],
   "source": [
    "# Trying to access an element by index\n",
    "print(numbers[0]) # TypeError: 'set' object is not subscriptable"
   ]
  },
  {
   "cell_type": "code",
   "execution_count": 244,
   "id": "10d8c547",
   "metadata": {},
   "outputs": [
    {
     "ename": "TypeError",
     "evalue": "'set' object is not subscriptable",
     "output_type": "error",
     "traceback": [
      "\u001b[1;31m---------------------------------------------------------------------------\u001b[0m",
      "\u001b[1;31mTypeError\u001b[0m                                 Traceback (most recent call last)",
      "Cell \u001b[1;32mIn[244], line 2\u001b[0m\n\u001b[0;32m      1\u001b[0m \u001b[38;5;66;03m# Trying to access an element by slice\u001b[39;00m\n\u001b[1;32m----> 2\u001b[0m \u001b[38;5;28mprint\u001b[39m(\u001b[43mfruits\u001b[49m\u001b[43m[\u001b[49m\u001b[43m:\u001b[49m\u001b[38;5;241;43m2\u001b[39;49m\u001b[43m]\u001b[49m)\n",
      "\u001b[1;31mTypeError\u001b[0m: 'set' object is not subscriptable"
     ]
    }
   ],
   "source": [
    "# Trying to access an element by slice\n",
    "print(fruits[:2]) # TypeError: 'set' object is not subscriptable"
   ]
  },
  {
   "cell_type": "code",
   "execution_count": 245,
   "id": "02e8b68f",
   "metadata": {},
   "outputs": [
    {
     "name": "stdout",
     "output_type": "stream",
     "text": [
      "{1, 2, 3, 4}\n"
     ]
    }
   ],
   "source": [
    "# Trying to create a set with duplicate elements\n",
    "duplicates = {1, 2, 3, 3, 4, 4}\n",
    "print(duplicates) # {1, 2, 3 ,4}"
   ]
  },
  {
   "cell_type": "code",
   "execution_count": null,
   "id": "fb38b16f",
   "metadata": {},
   "outputs": [],
   "source": []
  },
  {
   "cell_type": "code",
   "execution_count": 246,
   "id": "aecc48dc",
   "metadata": {},
   "outputs": [
    {
     "name": "stdout",
     "output_type": "stream",
     "text": [
      "set()\n",
      "<class 'set'>\n"
     ]
    }
   ],
   "source": [
    "x = set()\n",
    "print(x)\n",
    "print(type(x))"
   ]
  },
  {
   "cell_type": "code",
   "execution_count": 247,
   "id": "fe6381ea",
   "metadata": {},
   "outputs": [
    {
     "data": {
      "text/plain": [
       "{'Hello', 'Kitty', 'World'}"
      ]
     },
     "execution_count": 247,
     "metadata": {},
     "output_type": "execute_result"
    }
   ],
   "source": [
    "x = set(['Hello', 'World', 'Kitty'])\n",
    "x"
   ]
  },
  {
   "cell_type": "code",
   "execution_count": 248,
   "id": "a0ce39bf",
   "metadata": {},
   "outputs": [
    {
     "data": {
      "text/plain": [
       "{'apple', 'banana', 'mango', 'orange', 'pear'}"
      ]
     },
     "execution_count": 248,
     "metadata": {},
     "output_type": "execute_result"
    }
   ],
   "source": [
    "x1 = {'apple', 'orange', 'mango'}\n",
    "x2 = {'banana', 'pear', 'mango'}\n",
    "x3 = x1 | x2\n",
    "\n",
    "x3"
   ]
  },
  {
   "cell_type": "code",
   "execution_count": 249,
   "id": "139d6fe8",
   "metadata": {},
   "outputs": [
    {
     "data": {
      "text/plain": [
       "{'apple', 'banana', 'mango', 'orange', 'pear'}"
      ]
     },
     "execution_count": 249,
     "metadata": {},
     "output_type": "execute_result"
    }
   ],
   "source": [
    "x4 = x1.union(x2)\n",
    "x4"
   ]
  },
  {
   "cell_type": "code",
   "execution_count": 250,
   "id": "e466e7c5",
   "metadata": {},
   "outputs": [
    {
     "data": {
      "text/plain": [
       "{'mango'}"
      ]
     },
     "execution_count": 250,
     "metadata": {},
     "output_type": "execute_result"
    }
   ],
   "source": [
    "x1 = {'apple', 'orange', 'mango'}\n",
    "x2 = {'banana', 'pear', 'mango'}\n",
    "x3 = x1 & x2\n",
    "\n",
    "x3"
   ]
  },
  {
   "cell_type": "code",
   "execution_count": 251,
   "id": "4aef936c",
   "metadata": {},
   "outputs": [
    {
     "data": {
      "text/plain": [
       "{'mango'}"
      ]
     },
     "execution_count": 251,
     "metadata": {},
     "output_type": "execute_result"
    }
   ],
   "source": [
    "x4 = x1.intersection(x2)\n",
    "x4"
   ]
  },
  {
   "cell_type": "code",
   "execution_count": null,
   "id": "042063ad",
   "metadata": {},
   "outputs": [],
   "source": []
  },
  {
   "cell_type": "code",
   "execution_count": 252,
   "id": "54cea679",
   "metadata": {},
   "outputs": [
    {
     "data": {
      "text/plain": [
       "{'apple', 'orange'}"
      ]
     },
     "execution_count": 252,
     "metadata": {},
     "output_type": "execute_result"
    }
   ],
   "source": [
    "x1 = {'apple', 'orange', 'mango'}\n",
    "x2 = {'banana', 'pear', 'mango'}\n",
    "x3 = x1 - x2\n",
    "\n",
    "x3"
   ]
  },
  {
   "cell_type": "code",
   "execution_count": 253,
   "id": "437253d9",
   "metadata": {},
   "outputs": [
    {
     "data": {
      "text/plain": [
       "{'apple', 'orange'}"
      ]
     },
     "execution_count": 253,
     "metadata": {},
     "output_type": "execute_result"
    }
   ],
   "source": [
    "x4 = x1.difference(x2)\n",
    "x4"
   ]
  },
  {
   "cell_type": "code",
   "execution_count": null,
   "id": "6f0cde13",
   "metadata": {},
   "outputs": [],
   "source": []
  },
  {
   "cell_type": "code",
   "execution_count": 254,
   "id": "7368afae",
   "metadata": {},
   "outputs": [
    {
     "name": "stdout",
     "output_type": "stream",
     "text": [
      "False\n",
      "True\n"
     ]
    }
   ],
   "source": [
    "x1 = {'apple', 'orange', 'mango'}\n",
    "x2 = {'banana', 'pear', 'mango'}\n",
    "x3 = {'mango'}\n",
    "\n",
    "print(x2 <= x1)\n",
    "print(x3 <= x1)"
   ]
  },
  {
   "cell_type": "code",
   "execution_count": 255,
   "id": "7b5f62d1",
   "metadata": {},
   "outputs": [
    {
     "name": "stdout",
     "output_type": "stream",
     "text": [
      "False\n",
      "True\n"
     ]
    }
   ],
   "source": [
    "print(x2.issubset(x1))\n",
    "print(x3.issubset(x1))"
   ]
  },
  {
   "cell_type": "markdown",
   "id": "e7763cf0",
   "metadata": {},
   "source": [
    "find common elements in three lists using sets"
   ]
  },
  {
   "cell_type": "code",
   "execution_count": 256,
   "id": "60959f69",
   "metadata": {},
   "outputs": [],
   "source": [
    "list1 = ['apple', 'orange', 'mango','pear',]\n",
    "list2 = ['banana', 'pear', 'mango','watermelon']\n",
    "list3 = ['mango','blueberry','grape','pear',]"
   ]
  },
  {
   "cell_type": "code",
   "execution_count": 257,
   "id": "423fc073",
   "metadata": {},
   "outputs": [
    {
     "name": "stdout",
     "output_type": "stream",
     "text": [
      "['pear', 'mango']\n"
     ]
    }
   ],
   "source": [
    "s1 = set(list1)\n",
    "s2 = set(list2)\n",
    "s3 = set(list3)\n",
    "\n",
    "set1 = s1.intersection(s2)          \n",
    "result_set = set1.intersection(s3)\n",
    "\n",
    "final_list = list(result_set)\n",
    "print(final_list)"
   ]
  },
  {
   "cell_type": "code",
   "execution_count": 258,
   "id": "1b90eb7f",
   "metadata": {},
   "outputs": [],
   "source": [
    "list1 = ['apple', 'orange', 'mango','pear',]\n",
    "list2 = ['banana', 'pear', 'mango','watermelon']\n",
    "list3 = ['mango','blueberry','grape','pear',]"
   ]
  },
  {
   "cell_type": "code",
   "execution_count": 259,
   "id": "fff1bc33",
   "metadata": {},
   "outputs": [
    {
     "name": "stdout",
     "output_type": "stream",
     "text": [
      "['pear', 'mango']\n"
     ]
    }
   ],
   "source": [
    "s1 = set(list1)\n",
    "s2 = set(list2)\n",
    "s3 = set(list3)\n",
    "\n",
    "final_list = [elem for elem in s1 if elem in s2 and elem in s3]\n",
    "print(final_list)"
   ]
  },
  {
   "cell_type": "code",
   "execution_count": 260,
   "id": "4f16d1d8",
   "metadata": {},
   "outputs": [
    {
     "data": {
      "text/plain": [
       "True"
      ]
     },
     "execution_count": 260,
     "metadata": {},
     "output_type": "execute_result"
    }
   ],
   "source": [
    "set1 = {'apple', 'orange', 'mango','pear'}\n",
    "\n",
    "\"apple\" in set1"
   ]
  },
  {
   "cell_type": "code",
   "execution_count": 261,
   "id": "fd2df2e4",
   "metadata": {},
   "outputs": [
    {
     "data": {
      "text/plain": [
       "False"
      ]
     },
     "execution_count": 261,
     "metadata": {},
     "output_type": "execute_result"
    }
   ],
   "source": [
    "\"banana\" in set1"
   ]
  },
  {
   "cell_type": "code",
   "execution_count": null,
   "id": "4f8eb7b1",
   "metadata": {},
   "outputs": [],
   "source": []
  },
  {
   "cell_type": "markdown",
   "id": "c45a3ddd",
   "metadata": {},
   "source": [
    "## Dictionary: Unordered Collections of Key-Value Pairs\n"
   ]
  },
  {
   "cell_type": "code",
   "execution_count": 262,
   "id": "8c59a331",
   "metadata": {},
   "outputs": [
    {
     "name": "stdout",
     "output_type": "stream",
     "text": [
      "{}\n",
      "<class 'dict'>\n"
     ]
    }
   ],
   "source": [
    "mydict = dict()\n",
    "print(mydict)\n",
    "print(type(mydict))"
   ]
  },
  {
   "cell_type": "code",
   "execution_count": 263,
   "id": "fc0f7a45",
   "metadata": {},
   "outputs": [
    {
     "name": "stdout",
     "output_type": "stream",
     "text": [
      "{'name': 'John', 'age': 36, 'country': 'Norway'}\n",
      "3\n"
     ]
    }
   ],
   "source": [
    "thisdict = dict(name = \"John\", age = 36, country = \"Norway\")\n",
    "print(thisdict)\n",
    "print(len(thisdict))"
   ]
  },
  {
   "cell_type": "code",
   "execution_count": 264,
   "id": "9362b5cd",
   "metadata": {},
   "outputs": [
    {
     "data": {
      "text/plain": [
       "{'sape': 4139, 'guido': 4127, 'jack': 4098}"
      ]
     },
     "execution_count": 264,
     "metadata": {},
     "output_type": "execute_result"
    }
   ],
   "source": [
    "thatlist = dict([('sape', 4139), ('guido', 4127), ('jack', 4098)])\n",
    "thatlist"
   ]
  },
  {
   "cell_type": "code",
   "execution_count": 265,
   "id": "472514b3",
   "metadata": {},
   "outputs": [
    {
     "name": "stdout",
     "output_type": "stream",
     "text": [
      "{1: 'one', 2: 'two', 3: 'three'}\n",
      "{'apple': 'red', 'banana': 'yellow', 'cherry': 'red'}\n",
      "{True: [1, 2, 3], 3.14: (4, 5, 6), 'hello': {'world': '!'}}\n"
     ]
    }
   ],
   "source": [
    "# Creating a dictionary of numbers\n",
    "numbers = {1: \"one\", 2: \"two\", 3: \"three\"}\n",
    "print(numbers)  \n",
    "\n",
    "# Creating a dictionary of strings\n",
    "fruits = {\"apple\": \"red\", \"banana\": \"yellow\", \"cherry\": \"red\"}\n",
    "print(fruits)  \n",
    "\n",
    "# Creating a dictionary of mixed types\n",
    "mixed = {True: [1 ,2 ,3], 3.14: (4 ,5 ,6), \"hello\": {\"world\": \"!\"}}\n",
    "print(mixed)  "
   ]
  },
  {
   "cell_type": "code",
   "execution_count": 266,
   "id": "5ca4fe54",
   "metadata": {},
   "outputs": [
    {
     "name": "stdout",
     "output_type": "stream",
     "text": [
      "{1: 'one', 2: 'two', 3: 'three', 4: 'four'}\n",
      "{'apple': 'red', 'banana': 'yellow', 'cherry': 'red', 'orange': 'orange', 'grape': 'purple'}\n",
      "{1: 'one', 2: 'two', 3: 'three'}\n",
      "{'banana': 'yellow', 'cherry': 'red', 'orange': 'orange', 'grape': 'purple'}\n"
     ]
    }
   ],
   "source": [
    "# Adding key-value pairs by square brackets \n",
    "numbers[4] = \"four\" \n",
    "print(numbers) \n",
    "\n",
    "# Adding key-value pairs by update method \n",
    "fruits.update({\"orange\": \"orange\" ,\"grape\": \"purple\"}) \n",
    "print(fruits)  \n",
    "\n",
    "# Removing key-value pairs by del statement \n",
    "del numbers[4] \n",
    "print(numbers)  \n",
    "\n",
    "# Removing key-value pairs by pop method \n",
    "fruits.pop(\"apple\") \n",
    "print(fruits)  "
   ]
  },
  {
   "cell_type": "code",
   "execution_count": 267,
   "id": "0cdb2f10",
   "metadata": {},
   "outputs": [
    {
     "name": "stdout",
     "output_type": "stream",
     "text": [
      "one\n",
      "yellow\n",
      "{'world': '!'}\n",
      "one\n",
      "yellow\n",
      "{'world': '!'}\n"
     ]
    }
   ],
   "source": [
    "# Accessing values by keys with square brackets \n",
    "print(numbers[1]) # one \n",
    "print(fruits[\"banana\"]) # yellow \n",
    "print(mixed[\"hello\"]) # {\"world\": \"!\"} \n",
    "\n",
    "# Accessing values by keys with get method \n",
    "print(numbers.get(1)) # one \n",
    "print(fruits.get(\"banana\")) # yellow \n",
    "print(mixed.get(\"hello\")) # {\"world\": \"!\"} "
   ]
  },
  {
   "cell_type": "code",
   "execution_count": 268,
   "id": "3065dc93",
   "metadata": {
    "scrolled": true
   },
   "outputs": [
    {
     "name": "stdout",
     "output_type": "stream",
     "text": [
      "{1: 'one', 2: 'four', 3: 'three'}\n"
     ]
    }
   ],
   "source": [
    "duplicates = {1: \"one\" ,2: \"two\" ,3: \"three\" ,2: \"four\"} \n",
    "print(duplicates) # {1: one ,2: four ,3: three} "
   ]
  },
  {
   "cell_type": "code",
   "execution_count": 269,
   "id": "f13b0a73",
   "metadata": {},
   "outputs": [
    {
     "data": {
      "text/plain": [
       "{2: 4, 4: 16, 6: 36}"
      ]
     },
     "execution_count": 269,
     "metadata": {},
     "output_type": "execute_result"
    }
   ],
   "source": [
    "y = {x: x**2 for x in (2, 4, 6)}\n",
    "y"
   ]
  },
  {
   "cell_type": "code",
   "execution_count": null,
   "id": "2003748c",
   "metadata": {},
   "outputs": [],
   "source": []
  },
  {
   "cell_type": "code",
   "execution_count": 270,
   "id": "0380bd0e",
   "metadata": {},
   "outputs": [
    {
     "name": "stdout",
     "output_type": "stream",
     "text": [
      "{}\n",
      "<class 'dict'>\n"
     ]
    }
   ],
   "source": [
    "mydict = dict()\n",
    "print(mydict)\n",
    "print(type(mydict))"
   ]
  },
  {
   "cell_type": "code",
   "execution_count": 271,
   "id": "862ce163",
   "metadata": {},
   "outputs": [
    {
     "name": "stdout",
     "output_type": "stream",
     "text": [
      "{'name': 'John', 'age': 36, 'country': 'Norway'}\n",
      "3\n"
     ]
    }
   ],
   "source": [
    "thisdict = dict(name = \"John\", age = 36, country = \"Norway\")\n",
    "print(thisdict)\n",
    "print(len(thisdict))"
   ]
  },
  {
   "cell_type": "code",
   "execution_count": 272,
   "id": "61b5b6e8",
   "metadata": {},
   "outputs": [
    {
     "data": {
      "text/plain": [
       "{'sape': 4139, 'guido': 4127, 'jack': 4098}"
      ]
     },
     "execution_count": 272,
     "metadata": {},
     "output_type": "execute_result"
    }
   ],
   "source": [
    "thatlist = dict([('sape', 4139), ('guido', 4127), ('jack', 4098)])\n",
    "thatlist"
   ]
  },
  {
   "cell_type": "markdown",
   "id": "6a304d61",
   "metadata": {},
   "source": [
    "<b>Loops:</b> It is easy to iterate over the keys in a dictionary:"
   ]
  },
  {
   "cell_type": "code",
   "execution_count": 273,
   "id": "23e37084",
   "metadata": {},
   "outputs": [
    {
     "name": "stdout",
     "output_type": "stream",
     "text": [
      "A person has \t 2 legs\n",
      "A cat has \t 4 legs\n",
      "A spider has \t 8 legs\n"
     ]
    }
   ],
   "source": [
    "d = {'person': 2, 'cat': 4, 'spider': 8}\n",
    "for animal in d:\n",
    "    legs = d[animal]\n",
    "    print(f'A { animal} has \\t {legs} legs')"
   ]
  },
  {
   "cell_type": "markdown",
   "id": "a0eb0762",
   "metadata": {},
   "source": [
    "If you want access to keys and their corresponding values, use the items method:"
   ]
  },
  {
   "cell_type": "code",
   "execution_count": 274,
   "id": "ce2371c2",
   "metadata": {},
   "outputs": [
    {
     "name": "stdout",
     "output_type": "stream",
     "text": [
      "A person has \t 2 legs\n",
      "A cat has \t 4 legs\n",
      "A spider has \t 8 legs\n"
     ]
    }
   ],
   "source": [
    "d = {'person': 2, 'cat': 4, 'spider': 8}\n",
    "for animal, legs in d.items():\n",
    "    print(f'A { animal} has \\t {legs} legs')"
   ]
  },
  {
   "cell_type": "code",
   "execution_count": 275,
   "id": "b57959fa",
   "metadata": {
    "scrolled": true
   },
   "outputs": [
    {
     "name": "stdout",
     "output_type": "stream",
     "text": [
      "dict_items([('person', 2), ('cat', 4), ('spider', 8)])\n"
     ]
    }
   ],
   "source": [
    "d = {'person': 2, 'cat': 4, 'spider': 8}\n",
    "x = d.items()\n",
    "\n",
    "print(x)"
   ]
  },
  {
   "cell_type": "code",
   "execution_count": null,
   "id": "5827bcfa",
   "metadata": {},
   "outputs": [],
   "source": []
  },
  {
   "cell_type": "code",
   "execution_count": null,
   "id": "97487225",
   "metadata": {},
   "outputs": [],
   "source": []
  }
 ],
 "metadata": {
  "kernelspec": {
   "display_name": "Python 3 (ipykernel)",
   "language": "python",
   "name": "python3"
  },
  "language_info": {
   "codemirror_mode": {
    "name": "ipython",
    "version": 3
   },
   "file_extension": ".py",
   "mimetype": "text/x-python",
   "name": "python",
   "nbconvert_exporter": "python",
   "pygments_lexer": "ipython3",
   "version": "3.10.12"
  },
  "toc": {
   "base_numbering": 1,
   "nav_menu": {},
   "number_sections": true,
   "sideBar": true,
   "skip_h1_title": false,
   "title_cell": "Table of Contents",
   "title_sidebar": "Contents",
   "toc_cell": false,
   "toc_position": {},
   "toc_section_display": true,
   "toc_window_display": false
  }
 },
 "nbformat": 4,
 "nbformat_minor": 5
}
